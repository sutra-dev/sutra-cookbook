{
  "cells": [
    {
      "cell_type": "markdown",
      "metadata": {},
      "source": [
        "# 使用 SUTRA 模型进行中文处理\n",
        "\n",
        "<img src=\"https://play-lh.googleusercontent.com/_O9p4Z4yucA2NLmZBu9mTJCuBwXeT9NcbtrDN6I8gKlkIPRySV0adOmbyipjSj9Gew\" width=\"150\">\n",
        "\n",
        "[![在Colab中打开](https://colab.research.google.com/assets/colab-badge.svg)](https://colab.research.google.com/drive/1-aJRF9T4k2EdGEdCac1vJVTbE2D_je22?usp=sharing)\n",
        "\n",
        "## 简介\n",
        "本笔记本演示如何结合OpenAI客户端，使用 SUTRA 模型进行中文语言的应用。Sutra 擅长多语言内容的处理和生成，是中文任务的理想选择。\n",
        "\n",
        "### 你将学到：\n",
        "* 如何配置 SUTRA 模型和 OpenAI 客户端\n",
        "* 如何用中文创建提示词并理解返回结果\n",
        "* 探索多种中文应用场景\n",
        "* 中文内容生成的最佳实践\n"
      ]
    },
    {
      "cell_type": "markdown",
      "metadata": {},
      "source": [
        "## 获取API密钥\n",
        "在开始之前，请确保你拥有：\n",
        "1. SUTRA API 密钥（可在 [TWO AI的SUTRA API页面](https://www.two.ai/sutra/api) 获取）\n",
        "2. 基本的 Python 和 Jupyter Notebook 使用知识\n",
        "\n",
        "本笔记本建议在 Google Colab 上运行，无需本地安装Python。"
      ]
    },
    {
      "cell_type": "markdown",
      "metadata": {},
      "source": [
        "## 安装依赖\n",
        "首先，安装所需的库。"
      ]
    },
    {
      "cell_type": "code",
      "execution_count": null,
      "metadata": {},
      "outputs": [],
      "source": [
        "# 安装必要的包\n",
        "!pip install openai"
      ]
    },
    {
      "cell_type": "markdown",
      "metadata": {},
      "source": [
        "### 导入必要的库\n"
      ]
    },
    {
      "cell_type": "code",
      "execution_count": null,
      "metadata": {},
      "outputs": [],
      "source": [
        "import os\n",
        "import time\n",
        "from openai import OpenAI\n",
        "from IPython.display import display, Markdown, HTML\n",
        "from google.colab import userdata"
      ]
    },
    {
      "cell_type": "markdown",
      "metadata": {},
      "source": [
        "## 认证\n",
        "要使用 Sutra API，需要设置你的 API 密钥。"
      ]
    },
    {
      "cell_type": "code",
      "execution_count": null,
      "metadata": {},
      "outputs": [],
      "source": [
        "# 示例：在代码中设置密钥\n",
        "os.environ[\"SUTRA_API_KEY\"] = userdata.get('SUTRA_API_KEY')"
      ]
    },
    {
      "cell_type": "markdown",
      "metadata": {},
      "source": [
        "### 创建 Sutra API 客户端\n"
      ]
    },
    {
      "cell_type": "code",
      "execution_count": null,
      "metadata": {},
      "outputs": [],
      "source": [
        "client = OpenAI(\n",
        "    base_url=\"https://api.two.ai/v2\",\n",
        "    api_key=os.environ.get(\"SUTRA_API_KEY\")\n",
        ")"
      ]
    },
    {
      "cell_type": "markdown",
      "metadata": {},
      "source": [
        "## 辅助函数\n",
        "\n",
        "创建辅助函数，便于与 Sutra API 进行中文任务的交互。\n"
      ]
    },
    {
      "cell_type": "code",
      "execution_count": null,
      "metadata": {},
      "outputs": [],
      "source": [
        "def get_sutra_response(prompt, model=\"sutra-v2\", temperature=0.7, max_tokens=1024):\n",
        "    \"\"\"从 Sutra AI 获取简单响应\"\"\"\n",
        "    try:\n",
        "        start_time = time.time()\n",
        "        response = client.chat.completions.create(\n",
        "            model=model,\n",
        "            messages=[{\"role\": \"user\", \"content\": prompt}],\n",
        "            temperature=temperature,\n",
        "            max_tokens=max_tokens\n",
        "        )\n",
        "        result = response.choices[0].message.content\n",
        "        time_taken = time.time() - start_time\n",
        "        print(f\"提示词: {prompt}\")\n",
        "        print(f\"回复: {result}\")\n",
        "        print(f\"耗时: {time_taken:.2f}秒\")\n",
        "        return result, time_taken\n",
        "    except Exception as e:\n",
        "        error_msg = f\"错误: {str(e)}\"\n",
        "        print(error_msg)\n",
        "        return error_msg, 0\n"
      ]
    },
    {
      "cell_type": "markdown",
      "metadata": {},
      "source": [
        "## 1. 基础中文文本生成\n",
        "\n",
        "让我们从生成一些基础的中文文本开始。\n"
      ]
    },
    {
      "cell_type": "code",
      "execution_count": null,
      "metadata": {},
      "outputs": [],
      "source": [
        "# 简单中文文本生成\n",
        "chinese_prompt = \"你好，我叫李华。你好吗？\"\n",
        "response, time_taken = get_sutra_response(chinese_prompt)"
      ]
    },
    {
      "cell_type": "markdown",
      "metadata": {},
      "source": [
        "## 2. 中文信息检索\n",
        "\n",
        "让我们用 Sutra 检索中文信息。\n"
      ]
    },
    {
      "cell_type": "code",
      "execution_count": null,
      "metadata": {},
      "outputs": [],
      "source": [
        "info_prompt = \"请介绍中国的五大传统节日，并说明它们的重要意义。\"\n",
        "response, time_taken = get_sutra_response(info_prompt)"
      ]
    },
    {
      "cell_type": "markdown",
      "metadata": {},
      "source": [
        "## 3. 中文创意写作\n",
        "\n",
        "Sutra 可以生成中文创意内容。\n"
      ]
    },
    {
      "cell_type": "code",
      "execution_count": null,
      "metadata": {},
      "outputs": [],
      "source": [
        "creative_prompt = \"写一首关于长城的短诗。\"\n",
        "response, time_taken = get_sutra_response(creative_prompt, temperature=0.8)"
      ]
    },
    {
      "cell_type": "markdown",
      "metadata": {},
      "source": [
        "## 4. 中文文本摘要\n",
        "\n",
        "Sutra 可以有效地对中文文本进行摘要。\n"
      ]
    },
    {
      "cell_type": "code",
      "execution_count": null,
      "metadata": {},
      "outputs": [],
      "source": [
        "long_text = \"\"\"\n",
        "中国历史悠久，文化灿烂。从秦朝统一六国到现代化进程，中国经历了无数变革。\n",
        "\n",
        "改革开放以来，中国经济快速发展，科技创新不断涌现。如今，中国在世界舞台上扮演着越来越重要的角色。\n",
        "\"\"\"\n",
        "summarize_prompt = f\"请将以下文本总结为100字以内：\\n\\n{long_text}\"\n",
        "summary, time_taken = get_sutra_response(summarize_prompt, temperature=0.3)"
      ]
    },
    {
      "cell_type": "markdown",
      "metadata": {},
      "source": [
        "## 5. 中文问答\n",
        "\n",
        "Sutra 支持中文问答任务。\n"
      ]
    },
    {
      "cell_type": "code",
      "execution_count": null,
      "metadata": {},
      "outputs": [],
      "source": [
        "context = \"\"\"\n",
        "中国诗歌在中国文化中占有重要地位。诗歌表达自然、人生、情感等主题，历史悠久。\n",
        "\"\"\"\n",
        "qa_prompt = f\"根据以下内容回答问题：\\n\\n{context}\\n\\n问题1：诗歌主要表达哪些主题？\\n问题2：中国诗歌有何历史意义？\"\n",
        "answers, time_taken = get_sutra_response(qa_prompt, temperature=0.2)"
      ]
    },
    {
      "cell_type": "markdown",
      "metadata": {},
      "source": [
        "## 6. 中英互译\n",
        "\n",
        "Sutra 可以实现中文与英文之间的互译。\n"
      ]
    },
    {
      "cell_type": "code",
      "execution_count": null,
      "metadata": {},
      "outputs": [],
      "source": [
        "chinese_text = \"中国拥有丰富的文化和传统，吸引了世界各地的游客。\"\n",
        "translate_zh_to_en_prompt = f\"请将以下中文翻译成英文：\\n\\n{chinese_text}\"\n",
        "translation_en, time_taken = get_sutra_response(translate_zh_to_en_prompt)"
      ]
    },
    {
      "cell_type": "code",
      "execution_count": null,
      "metadata": {},
      "outputs": [],
      "source": [
        "english_text = \"Artificial intelligence is changing the way we live and work. It is used in healthcare, education, and many other fields.\"\n",
        "translate_en_to_zh_prompt = f\"请将以下英文翻译成中文：\\n\\n{english_text}\"\n",
        "translation_zh, time_taken = get_sutra_response(translate_en_to_zh_prompt)"
      ]
    },
    {
      "cell_type": "markdown",
      "metadata": {},
      "source": [
        "## 7. 中文情感分析\n",
        "\n",
        "Sutra 可以对中文评论进行情感分析。\n"
      ]
    },
    {
      "cell_type": "code",
      "execution_count": null,
      "metadata": {},
      "outputs": [],
      "source": [
        "reviews = [\n",
        "    '这部电影非常好，故事精彩，演员表演出色。',\n",
        "    '食物一点都不好吃，服务也很差。',\n",
        "    '产品还可以，就是价格有点高。',\n",
        "    '我很喜欢这本书，作者讲解得很清楚。',\n",
        "    '这次旅行很失望，酒店很脏，工作人员态度不好。'\n",
        "]\n",
        "\n",
        "sentiment_prompt = '请对以下中文评论进行情感分析，并将每条评论分类为“正面”、“负面”或“中性”：\\n\\n'\n",
        "for i, review in enumerate(reviews):\n",
        "    sentiment_prompt += f'{i+1}. {review}\\n'\n",
        "sentiment_analysis, time_taken = get_sutra_response(sentiment_prompt, temperature=0.1)\n"
      ]
    },
    {
      "cell_type": "markdown",
      "metadata": {},
      "source": [
        "## 8. 多种格式的中文内容生成\n",
        "\n",
        "Sutra 可以生成多种格式的中文内容。\n"
      ]
    },
    {
      "cell_type": "code",
      "execution_count": null,
      "metadata": {},
      "outputs": [],
      "source": [
        "blog_prompt = '写一篇主题为“中华美食与健康”的博客文章。包括标题、引言、主要观点和结论。'\n",
        "blog_post = get_sutra_response(blog_prompt, temperature=0.7)\n"
      ]
    },
    {
      "cell_type": "markdown",
      "metadata": {},
      "source": [
        "## 9. 结论\n",
        "\n",
        "在本笔记本中，我们探索了如何结合 Sutra 模型和 OpenAI 客户端进行**中文语言应用**，涵盖了：\n",
        "\n",
        "* 基础中文文本生成\n",
        "* 中文信息检索\n",
        "* 中文创意写作\n",
        "* 中文文本摘要\n",
        "* 中文问答\n",
        "* 中英互译\n",
        "* 中文情感分析\n",
        "* 多种格式的中文内容生成\n",
        "\n",
        "Sutra 在中文和多语言处理方面表现出色，非常适合需要中文处理或面向中文用户的应用场景。\n"
      ]
    },
    {
      "cell_type": "markdown",
      "metadata": {},
      "source": [
        "## 11. 更多资源\n",
        "\n",
        "想要了解 Sutra 在**中文**及多语言处理方面的更多信息，请参考：\n",
        "\n",
        "1. [Sutra API 文档](https://docs.two.ai)\n",
        "2. [Sutra 模型变体](https://docs.two.ai/models)\n",
        "3. [多语言能力介绍](https://docs.two.ai/multilingual)\n",
        "\n",
        "欢迎大家用 Sutra 构建属于自己的中文和多语言应用！\n"
      ]
    }
  ],
  "metadata": {
    "colab": {
      "provenance": []
    },
    "kernelspec": {
      "display_name": "Python 3",
      "name": "python3"
    },
    "language_info": {
      "name": "python"
    }
  },
  "nbformat": 4,
  "nbformat_minor": 0
}
