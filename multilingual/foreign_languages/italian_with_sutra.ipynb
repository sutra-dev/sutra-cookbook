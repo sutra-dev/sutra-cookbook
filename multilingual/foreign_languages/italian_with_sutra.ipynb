{
  "cells": [
    {
      "cell_type": "markdown",
      "metadata": {},
      "source": [
        "# Utilizzo del modello SUTRA per la lingua italiana\n",
        "\n",
        "<img src=\"https://play-lh.googleusercontent.com/_O9p4Z4yucA2NLmZBu9mTJCuBwXeT9NcbtrDN6I8gKlkIPRySV0adOmbyipjSj9Gew\" width=\"150\">\n",
        "\n",
        "[![Apri in Colab](https://colab.research.google.com/assets/colab-badge.svg)](https://colab.research.google.com/drive/1VbMAq-2SRxrFa8trHQMIEL0UHIRxPLIi?usp=sharing)\n",
        "\n",
        "## Introduzione\n",
        "In questo notebook viene mostrato come utilizzare il modello Sutra con il client OpenAI per applicazioni in lingua italiana. Sutra eccelle nell'elaborazione e generazione di contenuti in più lingue, inclusa l'italiano.\n",
        "\n",
        "### Cosa imparerai:\n",
        "* Come configurare il modello Sutra e il client OpenAI\n",
        "* Come creare prompt in italiano e comprendere le risposte\n",
        "* Esempi di casi d'uso in italiano\n",
        "* Best practice per la generazione di contenuti in italiano\n"
      ]
    },
    {
      "cell_type": "markdown",
      "metadata": {},
      "source": [
        "## Ottieni la tua API Key\n",
        "Prima di iniziare, assicurati di avere:\n",
        "1. Una chiave API SUTRA (puoi ottenerla alla [pagina API di TWO AI SUTRA](https://www.two.ai/sutra/api))\n",
        "2. Conoscenze di base di Python e dei notebook Jupyter\n",
        "\n",
        "Questo notebook è progettato per essere eseguito su Google Colab, quindi non è richiesta alcuna installazione locale di Python."
      ]
    },
    {
      "cell_type": "markdown",
      "metadata": {},
      "source": [
        "## Installazione delle dipendenze\n",
        "Per prima cosa, installa le librerie necessarie."
      ]
    },
    {
      "cell_type": "code",
      "execution_count": null,
      "metadata": {},
      "outputs": [],
      "source": [
        "# Installa i pacchetti necessari\n",
        "!pip install openai"
      ]
    },
    {
      "cell_type": "markdown",
      "metadata": {},
      "source": [
        "### Importa le librerie necessarie\n"
      ]
    },
    {
      "cell_type": "code",
      "execution_count": null,
      "metadata": {},
      "outputs": [],
      "source": [
        "import os\n",
        "import time\n",
        "from openai import OpenAI\n",
        "from IPython.display import display, Markdown, HTML\n",
        "from google.colab import userdata"
      ]
    },
    {
      "cell_type": "markdown",
      "metadata": {},
      "source": [
        "## Autenticazione\n",
        "Per usare l'API Sutra, devi impostare la tua chiave API."
      ]
    },
    {
      "cell_type": "code",
      "execution_count": null,
      "metadata": {},
      "outputs": [],
      "source": [
        "# Esempio: imposta la chiave nel codice\n",
        "os.environ[\"SUTRA_API_KEY\"] = userdata.get('SUTRA_API_KEY')"
      ]
    },
    {
      "cell_type": "markdown",
      "metadata": {},
      "source": [
        "### Crea il client Sutra API\n"
      ]
    },
    {
      "cell_type": "code",
      "execution_count": null,
      "metadata": {},
      "outputs": [],
      "source": [
        "client = OpenAI(\n",
        "    base_url=\"https://api.two.ai/v2\",\n",
        "    api_key=os.environ.get(\"SUTRA_API_KEY\")\n",
        ")"
      ]
    },
    {
      "cell_type": "markdown",
      "metadata": {},
      "source": [
        "## Funzioni di supporto\n",
        "\n",
        "Crea funzioni di supporto per interagire con l'API Sutra per compiti in italiano.\n"
      ]
    },
    {
      "cell_type": "code",
      "execution_count": null,
      "metadata": {},
      "outputs": [],
      "source": [
        "def get_sutra_response(prompt, model=\"sutra-v2\", temperature=0.7, max_tokens=1024):\n",
        "    \"\"\"Risposta semplice da Sutra AI\"\"\"\n",
        "    try:\n",
        "        start_time = time.time()\n",
        "        response = client.chat.completions.create(\n",
        "            model=model,\n",
        "            messages=[{\"role\": \"user\", \"content\": prompt}],\n",
        "            temperature=temperature,\n",
        "            max_tokens=max_tokens\n",
        "        )\n",
        "        result = response.choices[0].message.content\n",
        "        time_taken = time.time() - start_time\n",
        "        print(f\"Prompt: {prompt}\")\n",
        "        print(f\"Risposta: {result}\")\n",
        "        print(f\"Tempo impiegato: {time_taken:.2f}s\")\n",
        "        return result, time_taken\n",
        "    except Exception as e:\n",
        "        error_msg = f\"Errore: {str(e)}\"\n",
        "        print(error_msg)\n",
        "        return error_msg, 0\n"
      ]
    },
    {
      "cell_type": "markdown",
      "metadata": {},
      "source": [
        "## 1. Generazione di testo base in italiano\n",
        "\n",
        "Iniziamo con alcuni esempi di generazione di testo in italiano.\n"
      ]
    },
    {
      "cell_type": "code",
      "execution_count": null,
      "metadata": {},
      "outputs": [],
      "source": [
        "italian_prompt = 'Ciao, mi chiamo Marco. Come stai?'\n",
        "response, time_taken = get_sutra_response(italian_prompt)"
      ]
    },
    {
      "cell_type": "markdown",
      "metadata": {},
      "source": [
        "## 2. Recupero di informazioni in italiano\n",
        "\n",
        "Usiamo Sutra per recuperare informazioni in italiano.\n"
      ]
    },
    {
      "cell_type": "code",
      "execution_count": null,
      "metadata": {},
      "outputs": [],
      "source": [
        "info_prompt = 'Parlami delle cinque principali festività italiane e del loro significato.'\n",
        "response, time_taken = get_sutra_response(info_prompt)"
      ]
    },
    {
      "cell_type": "markdown",
      "metadata": {},
      "source": [
        "## 3. Scrittura creativa in italiano\n",
        "\n",
        "Sutra può generare contenuti creativi in italiano.\n"
      ]
    },
    {
      "cell_type": "code",
      "execution_count": null,
      "metadata": {},
      "outputs": [],
      "source": [
        "creative_prompt = 'Scrivi una breve poesia sul Colosseo.'\n",
        "response, time_taken = get_sutra_response(creative_prompt, temperature=0.8)"
      ]
    },
    {
      "cell_type": "markdown",
      "metadata": {},
      "source": [
        "## 4. Sintesi di testo in italiano\n",
        "\n",
        "Sutra può riassumere efficacemente testi in italiano.\n"
      ]
    },
    {
      "cell_type": "code",
      "execution_count": null,
      "metadata": {},
      "outputs": [],
      "source": [
        "long_text = \"\"\"\n",
        "La storia dell'Italia è lunga e complessa. Dall'antica Roma al Rinascimento, il paese ha vissuto molte trasformazioni.\n",
        "\n",
        "Nel XX secolo, l'Italia ha attraversato guerre, cambiamenti politici e una forte crescita economica. Oggi l'Italia è riconosciuta per la sua cultura e influenza globale.\n",
        "\"\"\"\n",
        "summarize_prompt = f'Riassumi il seguente testo in meno di 100 parole:\\n\\n{long_text}'\n",
        "summary, time_taken = get_sutra_response(summarize_prompt, temperature=0.3)"
      ]
    },
    {
      "cell_type": "markdown",
      "metadata": {},
      "source": [
        "## 5. Domande e risposte in italiano\n",
        "\n",
        "Sutra supporta domande e risposte in italiano.\n"
      ]
    },
    {
      "cell_type": "code",
      "execution_count": null,
      "metadata": {},
      "outputs": [],
      "source": [
        "context = \"\"\"\n",
        "La poesia italiana ha un ruolo importante nella cultura del paese. I poeti esprimono emozioni, natura e riflessioni sulla vita.\n",
        "\"\"\"\n",
        "qa_prompt = f'Rispondi alle seguenti domande in base al testo:\\n\\n{context}\\n\\nDomanda 1: Quali temi sono presenti nella poesia italiana?\\nDomanda 2: Qual è il significato culturale della poesia in Italia?'\n",
        "answers, time_taken = get_sutra_response(qa_prompt, temperature=0.2)"
      ]
    },
    {
      "cell_type": "markdown",
      "metadata": {},
      "source": [
        "## 6. Traduzione italiano-inglese\n",
        "\n",
        "Sutra può tradurre efficacemente tra italiano e inglese.\n"
      ]
    },
    {
      "cell_type": "code",
      "execution_count": null,
      "metadata": {},
      "outputs": [],
      "source": [
        "italian_text = 'L'Italia è un paese ricco di cultura e tradizioni, che attira turisti da tutto il mondo.'\n",
        "translate_it_to_en_prompt = f'Traduci il seguente testo in inglese:\\n\\n{italian_text}'\n",
        "translation_en, time_taken = get_sutra_response(translate_it_to_en_prompt)"
      ]
    },
    {
      "cell_type": "code",
      "execution_count": null,
      "metadata": {},
      "outputs": [],
      "source": [
        "english_text = 'Artificial intelligence is changing the way we live and work. It is used in healthcare, education, and many other fields.'\n",
        "translate_en_to_it_prompt = f'Traduci il seguente testo in italiano:\\n\\n{english_text}'\n",
        "translation_it, time_taken = get_sutra_response(translate_en_to_it_prompt)"
      ]
    },
    {
      "cell_type": "markdown",
      "metadata": {},
      "source": [
        "## 7. Analisi del sentiment in italiano\n",
        "\n",
        "Sutra può analizzare il sentiment di recensioni in italiano.\n"
      ]
    },
    {
      "cell_type": "code",
      "execution_count": null,
      "metadata": {},
      "outputs": [],
      "source": [
        "reviews = [\n",
        "    'Questo film è molto bello. La trama è coinvolgente e la recitazione eccellente.',\n",
        "    'Il cibo non era per niente buono e il servizio pessimo.',\n",
        "    'Il prodotto è ok, ma il prezzo è un po' alto.',\n",
        "    'Mi è piaciuto questo libro, l'autore ha spiegato molto bene l'argomento.',\n",
        "    'Il viaggio è stato deludente, l'hotel era sporco e il personale scortese.'\n",
        "]\n",
        "\n",
        "sentiment_prompt = 'Analizza il sentiment delle seguenti recensioni in italiano e classifica ciascuna come “Positivo”, “Negativo” o “Neutrale”:\n",
        "\n",
        "'\n",
        "for i, review in enumerate(reviews):\n",
        "    sentiment_prompt += f'{i+1}. {review}\n",
        "'\n",
        "sentiment_analysis, time_taken = get_sutra_response(sentiment_prompt, temperature=0.1)\n"
      ]
    },
    {
      "cell_type": "markdown",
      "metadata": {},
      "source": [
        "## 8. Generazione di contenuti in vari formati in italiano\n",
        "\n",
        "Sutra può generare contenuti in italiano in diversi formati.\n"
      ]
    },
    {
      "cell_type": "code",
      "execution_count": null,
      "metadata": {},
      "outputs": [],
      "source": [
        "blog_prompt = 'Scrivi un post sul blog sul tema “Cucina italiana e il suo impatto sulla salute”. Includi titolo, introduzione, punti principali e conclusione.'\n",
        "blog_post = get_sutra_response(blog_prompt, temperature=0.7)\n"
      ]
    },
    {
      "cell_type": "markdown",
      "metadata": {},
      "source": [
        "## 9. Conclusione\n",
        "\n",
        "In questo notebook abbiamo esplorato l'uso del modello Sutra con il client OpenAI per **applicazioni in lingua italiana**. Abbiamo visto vari casi d'uso tra cui:\n",
        "\n",
        "* Generazione di testo base in italiano\n",
        "* Recupero di informazioni in italiano\n",
        "* Scrittura creativa in italiano\n",
        "* Sintesi di testo in italiano\n",
        "* Domande e risposte in italiano\n",
        "* Traduzione italiano-inglese\n",
        "* Analisi del sentiment in italiano\n",
        "* Generazione di contenuti in vari formati\n",
        "\n",
        "Sutra è una soluzione eccellente per applicazioni che richiedono l'elaborazione della lingua italiana o rivolte a utenti italiani.\n"
      ]
    },
    {
      "cell_type": "markdown",
      "metadata": {},
      "source": [
        "## 10. Risorse aggiuntive\n",
        "\n",
        "Per saperne di più su Sutra per l'italiano e altre lingue, consulta:\n",
        "\n",
        "1. [Documentazione API Sutra](https://docs.two.ai)\n",
        "2. [Varianti del modello Sutra](https://docs.two.ai/models)\n",
        "3. [Capacità multilingue](https://docs.two.ai/multilingual)\n",
        "\n",
        "Crea le tue applicazioni con Sutra per l'italiano e altre lingue!\n"
      ]
    }
  ],
  "metadata": {
    "colab": {
      "provenance": []
    },
    "kernelspec": {
      "display_name": "Python 3",
      "name": "python3"
    },
    "language_info": {
      "name": "python"
    }
  },
  "nbformat": 4,
  "nbformat_minor": 0
}
