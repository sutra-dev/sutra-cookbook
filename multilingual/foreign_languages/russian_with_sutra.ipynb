{
  "cells": [
    {
      "cell_type": "markdown",
      "metadata": {},
      "source": [
        "# Использование модели Sutra для русского языка\n",
        "\n",
        "<img src=\"https://play-lh.googleusercontent.com/_O9p4Z4yucA2NLmZBu9mTJCuBwXeT9NcbtrDN6I8gKlkIPRySV0adOmbyipjSj9Gew\" width=\"150\">\n",
        "\n",
        "[![Открыть в Colab](https://colab.research.google.com/assets/colab-badge.svg)](https://colab.research.google.com/drive/1FUwsc5WYAFbBa1VIRyp5385nRrB-8Ama?usp=sharing)\n",
        "\n",
        "## Введение\n",
        "В этой тетради показано, как использовать модель Sutra совместно с клиентом OpenAI для приложений на русском языке. Sutra отлично справляется с обработкой и генерацией контента на различных языках, включая русский.\n",
        "\n",
        "### Чему вы научитесь:\n",
        "* Как настроить модель Sutra и клиент OpenAI\n",
        "* Как создавать русскоязычные промпты и анализировать ответы\n",
        "* Примеры использования для русского языка\n",
        "* Лучшие практики генерации контента на русском\n"
      ]
    },
    {
      "cell_type": "markdown",
      "metadata": {},
      "source": [
        "## Получение API-ключа\n",
        "Перед началом убедитесь, что у вас есть:\n",
        "1. API-ключ SUTRA (получить можно на [странице SUTRA API компании TWO AI](https://www.two.ai/sutra/api))\n",
        "2. Базовые знания Python и Jupyter Notebook\n",
        "\n",
        "Эта тетрадь рекомендуется для запуска в Google Colab — локальная установка Python не требуется."
      ]
    },
    {
      "cell_type": "markdown",
      "metadata": {},
      "source": [
        "## Установка зависимостей\n",
        "Сначала установите необходимые библиотеки."
      ]
    },
    {
      "cell_type": "code",
      "execution_count": null,
      "metadata": {},
      "outputs": [],
      "source": [
        "# Установка необходимых пакетов\n",
        "!pip install openai"
      ]
    },
    {
      "cell_type": "markdown",
      "metadata": {},
      "source": [
        "### Импорт необходимых библиотек\n"
      ]
    },
    {
      "cell_type": "code",
      "execution_count": null,
      "metadata": {},
      "outputs": [],
      "source": [
        "import os\n",
        "import time\n",
        "from openai import OpenAI\n",
        "from IPython.display import display, Markdown, HTML\n",
        "from google.colab import userdata"
      ]
    },
    {
      "cell_type": "markdown",
      "metadata": {},
      "source": [
        "## Аутентификация\n",
        "Для использования API Sutra необходимо установить ваш API-ключ."
      ]
    },
    {
      "cell_type": "code",
      "execution_count": null,
      "metadata": {},
      "outputs": [],
      "source": [
        "# Пример: установка ключа в коде\n",
        "os.environ[\"SUTRA_API_KEY\"] = userdata.get('SUTRA_API_KEY')"
      ]
    },
    {
      "cell_type": "markdown",
      "metadata": {},
      "source": [
        "### Создание клиента Sutra API\n"
      ]
    },
    {
      "cell_type": "code",
      "execution_count": null,
      "metadata": {},
      "outputs": [],
      "source": [
        "client = OpenAI(\n",
        "    base_url=\"https://api.two.ai/v2\",\n",
        "    api_key=os.environ.get(\"SUTRA_API_KEY\")\n",
        ")"
      ]
    },
    {
      "cell_type": "markdown",
      "metadata": {},
      "source": [
        "## Вспомогательные функции\n",
        "\n",
        "Создайте вспомогательные функции для взаимодействия с API Sutra для задач на русском языке.\n"
      ]
    },
    {
      "cell_type": "code",
      "execution_count": null,
      "metadata": {},
      "outputs": [],
      "source": [
        "def get_sutra_response(prompt, model=\"sutra-v2\", temperature=0.7, max_tokens=1024):\n",
        "    \"\"\"Получение простого ответа от Sutra AI\"\"\"\n",
        "    try:\n",
        "        start_time = time.time()\n",
        "        response = client.chat.completions.create(\n",
        "            model=model,\n",
        "            messages=[{\"role\": \"user\", \"content\": prompt}],\n",
        "            temperature=temperature,\n",
        "            max_tokens=max_tokens\n",
        "        )\n",
        "        result = response.choices[0].message.content\n",
        "        time_taken = time.time() - start_time\n",
        "        print(f\"Промпт: {prompt}\")\n",
        "        print(f\"Ответ: {result}\")\n",
        "        print(f\"Время выполнения: {time_taken:.2f} сек\")\n",
        "        return result, time_taken\n",
        "    except Exception as e:\n",
        "        error_msg = f\"Ошибка: {str(e)}\"\n",
        "        print(error_msg)\n",
        "        return error_msg, 0\n"
      ]
    },
    {
      "cell_type": "markdown",
      "metadata": {},
      "source": [
        "## 1. Генерация базового текста на русском\n",
        "\n",
        "Начнем с генерации простого текста на русском языке.\n"
      ]
    },
    {
      "cell_type": "code",
      "execution_count": null,
      "metadata": {},
      "outputs": [],
      "source": [
        "russian_prompt = 'Привет, меня зовут Анна. Как дела?'\n",
        "response, time_taken = get_sutra_response(russian_prompt)"
      ]
    },
    {
      "cell_type": "markdown",
      "metadata": {},
      "source": [
        "## 2. Извлечение информации на русском\n",
        "\n",
        "Давайте используем Sutra для получения информации на русском языке.\n"
      ]
    },
    {
      "cell_type": "code",
      "execution_count": null,
      "metadata": {},
      "outputs": [],
      "source": [
        "info_prompt = 'Расскажите о пяти главных праздниках России и их значении.'\n",
        "response, time_taken = get_sutra_response(info_prompt)"
      ]
    },
    {
      "cell_type": "markdown",
      "metadata": {},
      "source": [
        "## 3. Креативное письмо на русском\n",
        "\n",
        "Sutra может генерировать креативный контент на русском языке.\n"
      ]
    },
    {
      "cell_type": "code",
      "execution_count": null,
      "metadata": {},
      "outputs": [],
      "source": [
        "creative_prompt = 'Напишите короткое стихотворение о Байкале.'\n",
        "response, time_taken = get_sutra_response(creative_prompt, temperature=0.8)"
      ]
    },
    {
      "cell_type": "markdown",
      "metadata": {},
      "source": [
        "## 4. Резюмирование текста на русском\n",
        "\n",
        "Sutra может эффективно резюмировать тексты на русском языке.\n"
      ]
    },
    {
      "cell_type": "code",
      "execution_count": null,
      "metadata": {},
      "outputs": [],
      "source": [
        "long_text = \"\"\"\n",
        "История России богата и сложна. С древних времен до современности страна прошла через множество преобразований.\n",
        "\n",
        "В ХХ веке Россия пережила революции, войны и период бурного развития. Сегодня Россия играет важную роль на мировой арене.\n",
        "\"\"\"\n",
        "summarize_prompt = f'Сделайте краткое резюме следующего текста (не более 100 слов):\\n\\n{long_text}'\n",
        "summary, time_taken = get_sutra_response(summarize_prompt, temperature=0.3)"
      ]
    },
    {
      "cell_type": "markdown",
      "metadata": {},
      "source": [
        "## 5. Вопрос-ответ на русском\n",
        "\n",
        "Sutra поддерживает задачи вопрос-ответ на русском языке.\n"
      ]
    },
    {
      "cell_type": "code",
      "execution_count": null,
      "metadata": {},
      "outputs": [],
      "source": [
        "context = \"\"\"\n",
        "Русская поэзия занимает важное место в культуре страны. Стихи выражают природу, чувства, размышления о жизни.\n",
        "\"\"\"\n",
        "qa_prompt = f'Ответьте на вопросы по следующему тексту:\\n\\n{context}\\n\\nВопрос 1: Какие темы отражают русские стихи?\\nВопрос 2: Каково культурное значение поэзии в России?'\n",
        "answers, time_taken = get_sutra_response(qa_prompt, temperature=0.2)"
      ]
    },
    {
      "cell_type": "markdown",
      "metadata": {},
      "source": [
        "## 6. Русско-английский перевод\n",
        "\n",
        "Sutra может переводить тексты между русским и английским языками.\n"
      ]
    },
    {
      "cell_type": "code",
      "execution_count": null,
      "metadata": {},
      "outputs": [],
      "source": [
        "russian_text = 'Россия — страна с богатой культурой и традициями, привлекающая туристов со всего мира.'\n",
        "translate_ru_to_en_prompt = f'Переведите следующий текст на английский язык:\\n\\n{russian_text}'\n",
        "translation_en, time_taken = get_sutra_response(translate_ru_to_en_prompt)"
      ]
    },
    {
      "cell_type": "code",
      "execution_count": null,
      "metadata": {},
      "outputs": [],
      "source": [
        "english_text = 'Artificial intelligence is changing the way we live and work. It is used in healthcare, education, and many other fields.'\n",
        "translate_en_to_ru_prompt = f'Переведите следующий текст на русский язык:\\n\\n{english_text}'\n",
        "translation_ru, time_taken = get_sutra_response(translate_en_to_ru_prompt)"
      ]
    },
    {
      "cell_type": "markdown",
      "metadata": {},
      "source": [
        "## 7. Анализ тональности на русском\n",
        "\n",
        "Sutra может анализировать тональность русскоязычных отзывов.\n"
      ]
    },
    {
      "cell_type": "code",
      "execution_count": null,
      "metadata": {},
      "outputs": [],
      "source": [
        "reviews = [\n",
        "    'Этот фильм очень хороший. Сюжет захватывающий, актерская игра отличная.',\n",
        "    'Еда была невкусная, а обслуживание плохое.',\n",
        "    'Продукт нормальный, но цена немного завышена.',\n",
        "    'Мне понравилась эта книга, автор хорошо объяснил тему.',\n",
        "    'Путешествие разочаровало, отель был грязный, персонал недружелюбный.'\n",
        "]\n",
        "\n",
        "sentiment_prompt = 'Проведите анализ тональности следующих отзывов на русском языке и классифицируйте каждый как “Положительный”, “Отрицательный” или “Нейтральный”:\\n\\n'\n",
        "for i, review in enumerate(reviews):\n",
        "    sentiment_prompt += f'{i+1}. {review}\\n'\n",
        "sentiment_analysis, time_taken = get_sutra_response(sentiment_prompt, temperature=0.1)\n"
      ]
    },
    {
      "cell_type": "markdown",
      "metadata": {},
      "source": [
        "## 8. Генерация контента в разных форматах на русском\n",
        "\n",
        "Sutra может создавать контент на русском языке в различных форматах.\n"
      ]
    },
    {
      "cell_type": "code",
      "execution_count": null,
      "metadata": {},
      "outputs": [],
      "source": [
        "blog_prompt = 'Напишите блог на тему “Русская кухня и ее влияние на здоровье”. Включите заголовок, введение, основные пункты и заключение.'\n",
        "blog_post = get_sutra_response(blog_prompt, temperature=0.7)\n"
      ]
    },
    {
      "cell_type": "markdown",
      "metadata": {},
      "source": [
        "## 9. Заключение\n",
        "\n",
        "В этой тетради мы рассмотрели использование модели Sutra и клиента OpenAI для **русскоязычных приложений**. Были рассмотрены следующие примеры:\n",
        "\n",
        "* Генерация базового текста на русском\n",
        "* Извлечение информации на русском\n",
        "* Креативное письмо на русском\n",
        "* Резюмирование текста на русском\n",
        "* Вопрос-ответ на русском\n",
        "* Русско-английский перевод\n",
        "* Анализ тональности на русском\n",
        "* Генерация контента в разных форматах на русском\n",
        "\n",
        "Sutra отлично подходит для приложений, требующих обработки русского языка или ориентированных на русскоязычных пользователей.\n"
      ]
    },
    {
      "cell_type": "markdown",
      "metadata": {},
      "source": [
        "## 10. Дополнительные ресурсы\n",
        "\n",
        "Чтобы узнать больше о возможностях Sutra для русского и других языков, ознакомьтесь со следующими ресурсами:\n",
        "\n",
        "1. [Документация Sutra API](https://docs.two.ai)\n",
        "2. [Варианты моделей Sutra](https://docs.two.ai/models)\n",
        "3. [Многоязычные возможности](https://docs.two.ai/multilingual)\n",
        "\n",
        "Создавайте свои собственные приложения с помощью Sutra для русского и других языков!\n"
      ]
    }
  ],
  "metadata": {
    "colab": {
      "provenance": []
    },
    "kernelspec": {
      "display_name": "Python 3",
      "name": "python3"
    },
    "language_info": {
      "name": "python"
    }
  },
  "nbformat": 4,
  "nbformat_minor": 0
}
