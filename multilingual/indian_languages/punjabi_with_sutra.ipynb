{
  "cells": [
    {
      "cell_type": "markdown",
      "metadata": {},
      "source": [
        "# ਪੰਜਾਬੀ ਲਈ SUTRA ਮਾਡਲ ਦੀ ਵਰਤੋਂ\n",
        "\n",
        "<img src=\"https://play-lh.googleusercontent.com/_O9p4Z4yucA2NLmZBu9mTJCuBwXeT9NcbtrDN6I8gKlkIPRySV0adOmbyipjSj9Gew\" width=\"150\">\n",
        "\n",
        "[![Colab 'ਚ ਖੋਲ੍ਹੋ](https://colab.research.google.com/assets/colab-badge.svg)](https://colab.research.google.com/drive/1MI5xVyY5EGwUlG_GKfxczB5QVLqkIXwe?usp=sharing)\n",
        "\n",
        "## ਜਾਣ ਪਛਾਣ\n",
        "ਇਸ ਨੋਟਬੁੱਕ ਵਿੱਚ ਦੱਸਿਆ ਗਿਆ ਹੈ ਕਿ Sutra ਮਾਡਲ ਨੂੰ OpenAI ਕਲਾਇੰਟ ਨਾਲ ਪੰਜਾਬੀ ਭਾਸ਼ਾ ਲਈ ਕਿਵੇਂ ਵਰਤਣਾ ਹੈ। Sutra ਬਹੁ-ਭਾਸ਼ਾਈ ਸਮਰੱਥਾ ਵਾਲਾ ਹੈ ਅਤੇ ਪੰਜਾਬੀ ਲਈ ਵੀ ਬਹੁਤ ਉਚਿਤ ਹੈ।\n",
        "\n",
        "### ਤੁਸੀਂ ਕੀ ਸਿੱਖੋਗੇ:\n",
        "* Sutra ਮਾਡਲ ਅਤੇ OpenAI ਕਲਾਇੰਟ ਸੈਟਅੱਪ ਕਰਨਾ\n",
        "* ਪੰਜਾਬੀ ਵਿੱਚ ਪ੍ਰੰਪਟ ਬਣਾਉਣਾ ਅਤੇ ਨਤੀਜੇ ਸਮਝਣਾ\n",
        "* ਪੰਜਾਬੀ ਵਿੱਚ ਵੱਖ-ਵੱਖ ਉਦਾਹਰਣ\n",
        "* ਪੰਜਾਬੀ ਵਿੱਚ ਸਮੱਗਰੀ ਬਣਾਉਣ ਦੀਆਂ ਵਧੀਆ ਤਰੀਕਾਂ\n"
      ]
    },
    {
      "cell_type": "markdown",
      "metadata": {},
      "source": [
        "## ਆਪਣੀ API ਕੁੰਜੀ ਪ੍ਰਾਪਤ ਕਰੋ\n",
        "ਸ਼ੁਰੂ ਕਰਨ ਤੋਂ ਪਹਿਲਾਂ ਯਕੀਨੀ ਬਣਾਓ:\n",
        "1. SUTRA API ਕੁੰਜੀ ([TWO AI ਦੀ SUTRA API ਸਾਈਟ](https://www.two.ai/sutra/api) ਤੋਂ ਲਵੋ)\n",
        "2. Python ਅਤੇ Jupyter Notebook ਦੀਆਂ ਮੁਢਲੀਆਂ ਜਾਣਕਾਰੀਆਂ\n",
        "\n",
        "ਇਹ ਨੋਟਬੁੱਕ Google Colab ਲਈ ਬਣਾਇਆ ਗਿਆ ਹੈ, ਇਸ ਲਈ ਤੁਹਾਨੂੰ ਆਪਣੇ ਕੰਪਿਊਟਰ 'ਤੇ Python ਇੰਸਟਾਲ ਕਰਨ ਦੀ ਲੋੜ ਨਹੀਂ।"
      ]
    },
    {
      "cell_type": "markdown",
      "metadata": {},
      "source": [
        "## Dependencies ਇੰਸਟਾਲ ਕਰੋ\n",
        "ਸਭ ਤੋਂ ਪਹਿਲਾਂ ਲੋੜੀਂਦੇ ਪੈਕੇਜ ਇੰਸਟਾਲ ਕਰੋ।"
      ]
    },
    {
      "cell_type": "code",
      "execution_count": null,
      "metadata": {},
      "outputs": [],
      "source": [
        "# ਲੋੜੀਂਦੇ ਪੈਕੇਜ ਇੰਸਟਾਲ ਕਰੋ\n",
        "!pip install openai"
      ]
    },
    {
      "cell_type": "markdown",
      "metadata": {},
      "source": [
        "### ਲੋੜੀਂਦੀਆਂ ਲਾਇਬ੍ਰੇਰੀਆਂ ਇੰਪੋਰਟ ਕਰੋ\n"
      ]
    },
    {
      "cell_type": "code",
      "execution_count": null,
      "metadata": {},
      "outputs": [],
      "source": [
        "import os\n",
        "import time\n",
        "from openai import OpenAI\n",
        "from IPython.display import display, Markdown, HTML\n",
        "from google.colab import userdata"
      ]
    },
    {
      "cell_type": "markdown",
      "metadata": {},
      "source": [
        "## ਪ੍ਰਮਾਣੀਕਰਨ (Authentication)\n",
        "Sutra API ਵਰਤਣ ਲਈ ਆਪਣੀ API ਕੁੰਜੀ ਸੈੱਟ ਕਰੋ।"
      ]
    },
    {
      "cell_type": "code",
      "execution_count": null,
      "metadata": {},
      "outputs": [],
      "source": [
        "# ਉਦਾਹਰਨ: ਕੋਡ ਵਿੱਚ ਕੁੰਜੀ ਸੈੱਟ ਕਰੋ\n",
        "os.environ[\"SUTRA_API_KEY\"] = userdata.get('SUTRA_API_KEY')"
      ]
    },
    {
      "cell_type": "markdown",
      "metadata": {},
      "source": [
        "### Sutra API Client ਬਣਾਓ\n"
      ]
    },
    {
      "cell_type": "code",
      "execution_count": null,
      "metadata": {},
      "outputs": [],
      "source": [
        "client = OpenAI(\n",
        "    base_url=\"https://api.two.ai/v2\",\n",
        "    api_key=os.environ.get(\"SUTRA_API_KEY\")\n",
        ")"
      ]
    },
    {
      "cell_type": "markdown",
      "metadata": {},
      "source": [
        "## ਸਹਾਇਕ ਫੰਕਸ਼ਨ\n",
        "\n",
        "Sutra API ਨਾਲ ਪੰਜਾਬੀ ਟਾਸਕ ਲਈ ਇੰਟਰੈਕਟ ਕਰਨ ਲਈ ਸਹਾਇਕ ਫੰਕਸ਼ਨ ਬਣਾਓ।\n"
      ]
    },
    {
      "cell_type": "code",
      "execution_count": null,
      "metadata": {},
      "outputs": [],
      "source": [
        "def get_sutra_response(prompt, model=\"sutra-v2\", temperature=0.7, max_tokens=1024):\n",
        "    \"\"\"Sutra AI ਤੋਂ ਸਧਾਰਣ ਜਵਾਬ ਲੈਣ ਲਈ\"\"\"\n",
        "    try:\n",
        "        start_time = time.time()\n",
        "        response = client.chat.completions.create(\n",
        "            model=model,\n",
        "            messages=[{\"role\": \"user\", \"content\": prompt}],\n",
        "            temperature=temperature,\n",
        "            max_tokens=max_tokens\n",
        "        )\n",
        "        result = response.choices[0].message.content\n",
        "        time_taken = time.time() - start_time\n",
        "        print(f\"ਪ੍ਰੰਪਟ: {prompt}\")\n",
        "        print(f\"ਜਵਾਬ: {result}\")\n",
        "        print(f\"ਸਮਾਂ: {time_taken:.2f} ਸਕਿੰਟ\")\n",
        "        return result, time_taken\n",
        "    except Exception as e:\n",
        "        error_msg = f\"ਗਲਤੀ: {str(e)}\"\n",
        "        print(error_msg)\n",
        "        return error_msg, 0\n"
      ]
    },
    {
      "cell_type": "markdown",
      "metadata": {},
      "source": [
        "## ੧. ਪੰਜਾਬੀ ਟੈਕਸਟ ਜਨਰੇਸ਼ਨ\n",
        "\n",
        "ਚਲੋ ਕੁਝ ਆਮ ਪੰਜਾਬੀ ਟੈਕਸਟ ਜਨਰੇਸ਼ਨ ਨਾਲ ਸ਼ੁਰੂ ਕਰੀਏ।\n"
      ]
    },
    {
      "cell_type": "code",
      "execution_count": null,
      "metadata": {},
      "outputs": [],
      "source": [
        "punjabi_prompt = 'ਸਤ ਸ੍ਰੀ ਅਕਾਲ, ਮੇਰਾ ਨਾਮ ਅਮਨ ਹੈ। ਤੁਸੀਂ ਕਿਵੇਂ ਹੋ?'\n",
        "response, time_taken = get_sutra_response(punjabi_prompt)"
      ]
    },
    {
      "cell_type": "markdown",
      "metadata": {},
      "source": [
        "## ੨. ਪੰਜਾਬੀ ਵਿੱਚ ਜਾਣਕਾਰੀ ਪ੍ਰਾਪਤੀ\n",
        "\n",
        "Sutra ਦੀ ਵਰਤੋਂ ਕਰਕੇ ਪੰਜਾਬੀ ਵਿੱਚ ਜਾਣਕਾਰੀ ਪ੍ਰਾਪਤ ਕਰੋ।\n"
      ]
    },
    {
      "cell_type": "code",
      "execution_count": null,
      "metadata": {},
      "outputs": [],
      "source": [
        "info_prompt = 'ਪੰਜਾਬ ਦੀਆਂ ਪੰਜ ਮੁੱਖ ਤਿਉਹਾਰਾਂ ਅਤੇ ਉਹਨਾਂ ਦੇ ਮਹੱਤਵ ਬਾਰੇ ਦੱਸੋ।'\n",
        "response, time_taken = get_sutra_response(info_prompt)"
      ]
    },
    {
      "cell_type": "markdown",
      "metadata": {},
      "source": [
        "## ੩. ਪੰਜਾਬੀ ਰਚਨਾਤਮਕ ਲਿਖਤ\n",
        "\n",
        "Sutra ਪੰਜਾਬੀ ਵਿੱਚ ਰਚਨਾਤਮਕ ਸਮੱਗਰੀ ਜਨਰੇਟ ਕਰ ਸਕਦਾ ਹੈ।\n"
      ]
    },
    {
      "cell_type": "code",
      "execution_count": null,
      "metadata": {},
      "outputs": [],
      "source": [
        "creative_prompt = 'ਪੰਜਾਬ ਦੇ ਪਿੰਡ ਬਾਰੇ ਇੱਕ ਛੋਟੀ ਕਵਿਤਾ ਲਿਖੋ।'\n",
        "response, time_taken = get_sutra_response(creative_prompt, temperature=0.8)"
      ]
    },
    {
      "cell_type": "markdown",
      "metadata": {},
      "source": [
        "## ੪. ਪੰਜਾਬੀ ਟੈਕਸਟ ਸੰਖੇਪ\n",
        "\n",
        "Sutra ਪੰਜਾਬੀ ਟੈਕਸਟ ਸੰਖੇਪ ਕਰ ਸਕਦਾ ਹੈ।\n"
      ]
    },
    {
      "cell_type": "code",
      "execution_count": null,
      "metadata": {},
      "outputs": [],
      "source": [
        "long_text = \"\"\"\n",
        "ਪੰਜਾਬ ਦਾ ਇਤਿਹਾਸ ਬਹੁਤ ਹੀ ਰੰਗੀਨ ਤੇ ਦਿਲਚਸਪ ਹੈ। ਪੰਜਾਬੀ ਸਭਿਆਚਾਰ ਅਤੇ ਸਾਹਿਤ ਦੀ ਵਿਸ਼ਵ ਭਰ ਵਿੱਚ ਵਧੀਕ ਪਛਾਣ ਹੈ।\n",
        "\n",
        "ਆਧੁਨਿਕ ਯੁੱਗ ਵਿੱਚ ਪੰਜਾਬੀ ਭਾਸ਼ਾ ਅਤੇ ਸਭਿਆਚਾਰ ਨਵੇਂ ਉਚਾਈਆਂ ਤੱਕ ਪਹੁੰਚੇ ਹਨ।\n",
        "\"\"\"\n",
        "summarize_prompt = f'ਹੇਠਾਂ ਦਿੱਤੇ ਟੈਕਸਟ ਨੂੰ 100 ਸ਼ਬਦਾਂ ਵਿੱਚ ਸੰਖੇਪ ਕਰੋ:\\n\\n{long_text}'\n",
        "summary, time_taken = get_sutra_response(summarize_prompt, temperature=0.3)"
      ]
    },
    {
      "cell_type": "markdown",
      "metadata": {},
      "source": [
        "## ੫. ਪੰਜਾਬੀ ਪ੍ਰਸ਼ਨ-ਉੱਤਰ\n",
        "\n",
        "Sutra ਪੰਜਾਬੀ ਪ੍ਰਸ਼ਨ-ਉੱਤਰ ਲਈ ਸਮਰੱਥ ਹੈ।\n"
      ]
    },
    {
      "cell_type": "code",
      "execution_count": null,
      "metadata": {},
      "outputs": [],
      "source": [
        "context = \"\"\"\n",
        "ਪੰਜਾਬੀ ਕਵਿਤਾ ਅਤੇ ਸਾਹਿਤ ਸਾਡੀ ਸਭਿਆਚਾਰਕ ਵਿਰਾਸਤ ਦਾ ਹਿੱਸਾ ਹਨ। ਇਨ੍ਹਾਂ ਵਿੱਚ ਕੁਦਰਤ, ਪਿਆਰ, ਜੀਵਨ ਬਾਰੇ ਵਿਚਾਰ ਪ੍ਰਗਟ ਹੁੰਦੇ ਹਨ।\n",
        "\"\"\"\n",
        "qa_prompt = f'ਹੇਠਾਂ ਦਿੱਤੇ ਪੈਰਾ ਦੇ ਆਧਾਰ 'ਤੇ ਪ੍ਰਸ਼ਨਾਂ ਦੇ ਉੱਤਰ ਦਿਓ:\\n\\n{context}\\n\\nਪ੍ਰਸ਼ਨ 1: ਪੰਜਾਬੀ ਕਵਿਤਾ ਵਿੱਚ ਕਿਹੜੇ ਵਿਸ਼ੇ ਹਨ?\\nਪ੍ਰਸ਼ਨ 2: ਪੰਜਾਬੀ ਸਾਹਿਤ ਅਤੇ ਕਵਿਤਾ ਦੀ ਸਭਿਆਚਾਰਕ ਮਹੱਤਤਾ ਕੀ ਹੈ?'\n",
        "answers, time_taken = get_sutra_response(qa_prompt, temperature=0.2)"
      ]
    },
    {
      "cell_type": "markdown",
      "metadata": {},
      "source": [
        "## ੬. ਪੰਜਾਬੀ-ਅੰਗਰੇਜ਼ੀ ਅਨੁਵਾਦ\n",
        "\n",
        "Sutra ਪੰਜਾਬੀ ਅਤੇ ਅੰਗਰੇਜ਼ੀ ਵਿੱਚ ਅਨੁਵਾਦ ਕਰ ਸਕਦਾ ਹੈ।\n"
      ]
    },
    {
      "cell_type": "code",
      "execution_count": null,
      "metadata": {},
      "outputs": [],
      "source": [
        "punjabi_text = 'ਪੰਜਾਬੀ ਇੱਕ ਧਨਾਢ਼ ਭਾਸ਼ਾ ਹੈ, ਜਿਸਦਾ ਸਾਹਿਤ ਅਤੇ ਸਭਿਆਚਾਰ ਵਿਸ਼ਵ ਪ੍ਰਸਿੱਧ ਹਨ।'\n",
        "translate_pa_to_en_prompt = f'ਹੇਠਾਂ ਦਿੱਤਾ ਪੰਜਾਬੀ ਟੈਕਸਟ ਅੰਗਰੇਜ਼ੀ ਵਿੱਚ ਅਨੁਵਾਦ ਕਰੋ:\\n\\n{punjabi_text}'\n",
        "translation_en, time_taken = get_sutra_response(translate_pa_to_en_prompt)"
      ]
    },
    {
      "cell_type": "code",
      "execution_count": null,
      "metadata": {},
      "outputs": [],
      "source": [
        "english_text = 'Artificial intelligence is changing the way we live and work. It is used in healthcare, education, and many other fields.'\n",
        "translate_en_to_pa_prompt = f'ਹੇਠਾਂ ਦਿੱਤਾ ਅੰਗਰੇਜ਼ੀ ਟੈਕਸਟ ਪੰਜਾਬੀ ਵਿੱਚ ਅਨੁਵਾਦ ਕਰੋ:\\n\\n{english_text}'\n",
        "translation_pa, time_taken = get_sutra_response(translate_en_to_pa_prompt)"
      ]
    },
    {
      "cell_type": "markdown",
      "metadata": {},
      "source": [
        "## ੭. ਪੰਜਾਬੀ ਰਿਵਿਊਜ਼ ਦੀ ਸੈਂਟੀਮੈਂਟ ਵਿਸ਼ਲੇਸ਼ਣ\n",
        "\n",
        "Sutra ਪੰਜਾਬੀ ਰਿਵਿਊਜ਼ ਦੀ ਸੈਂਟੀਮੈਂਟ ਵਿਸ਼ਲੇਸ਼ਣ ਕਰ ਸਕਦਾ ਹੈ।\n"
      ]
    },
    {
      "cell_type": "code",
      "execution_count": null,
      "metadata": {},
      "outputs": [],
      "source": [
        "reviews = [\n",
        "    'ਇਹ ਫਿਲਮ ਬਹੁਤ ਵਧੀਆ ਹੈ। ਕਹਾਣੀ ਦਿਲਚਸਪ, ਅਦਾਕਾਰੀ ਸ਼ਾਨਦਾਰ।',\n",
        "    'ਭੋਜਨ ਬਿਲਕੁਲ ਚੰਗਾ ਨਹੀਂ ਸੀ, ਸੇਵਾ ਵੀ ਮਾੜੀ ਸੀ।',\n",
        "    'ਉਤਪਾਦ ਠੀਕ-ਠਾਕ ਹੈ, ਪਰ ਕੀਮਤ ਥੋੜ੍ਹੀ ਵੱਧ ਹੈ।',\n",
        "    'ਇਹ ਕਿਤਾਬ ਮੈਨੂੰ ਪਸੰਦ ਆਈ, ਲੇਖਕ ਨੇ ਵਿਸ਼ਾ ਚੰਗੀ ਤਰ੍ਹਾਂ ਸਮਝਾਇਆ।',\n",
        "    'ਯਾਤਰਾ ਨਿਰਾਸ਼ਾਜਨਕ ਸੀ, ਹੋਟਲ ਗੰਦਾ ਸੀ ਅਤੇ ਸਟਾਫ ਬੇਅਦਬ ਸੀ।'\n",
        "]\n",
        "\n",
        "sentiment_prompt = 'ਹੇਠਾਂ ਦਿੱਤੀਆਂ ਪੰਜਾਬੀ ਰਿਵਿਊਜ਼ ਦੀ ਸੈਂਟੀਮੈਂਟ ਵਿਸ਼ਲੇਸ਼ਣ ਕਰੋ ਅਤੇ ਹਰ ਇੱਕ ਨੂੰ “ਸਕਾਰਾਤਮਕ”, “ਨਕਾਰਾਤਮਕ” ਜਾਂ “ਤਟਸਥ” ਵਜੋਂ ਵੰਡੋ:\\n\\n'\n",
        "for i, review in enumerate(reviews):\n",
        "    sentiment_prompt += f'{i+1}. {review}\n",
        "'\n",
        "sentiment_analysis, time_taken = get_sutra_response(sentiment_prompt, temperature=0.1)\n"
      ]
    },
    {
      "cell_type": "markdown",
      "metadata": {},
      "source": [
        "## ੮. ਪੰਜਾਬੀ ਵਿੱਚ ਵੱਖ-ਵੱਖ ਫਾਰਮੈਟਾਂ ਵਿੱਚ ਸਮੱਗਰੀ ਜਨਰੇਟ ਕਰੋ\n",
        "\n",
        "Sutra ਪੰਜਾਬੀ ਵਿੱਚ ਵੱਖ-ਵੱਖ ਫਾਰਮੈਟਾਂ ਵਿੱਚ ਸਮੱਗਰੀ ਜਨਰੇਟ ਕਰ ਸਕਦਾ ਹੈ।\n"
      ]
    },
    {
      "cell_type": "code",
      "execution_count": null,
      "metadata": {},
      "outputs": [],
      "source": [
        "blog_prompt = '“ਪੰਜਾਬੀ ਭੋਜਨ ਅਤੇ ਸਿਹਤ ਉੱਤੇ ਇਸਦਾ ਪ੍ਰਭਾਵ” ਵਿਸ਼ੇ ਉੱਤੇ ਇੱਕ ਬਲੌਗ ਲਿਖੋ। ਸਿਰਲੇਖ, ਭੂਮਿਕਾ, ਮੁੱਖ ਬਿੰਦੂ ਅਤੇ ਨਤੀਜਾ ਸ਼ਾਮਲ ਕਰੋ।'\n",
        "blog_post = get_sutra_response(blog_prompt, temperature=0.7)\n"
      ]
    },
    {
      "cell_type": "markdown",
      "metadata": {},
      "source": [
        "## ੯. ਨਤੀਜਾ\n",
        "\n",
        "ਇਸ ਨੋਟਬੁੱਕ ਵਿੱਚ ਅਸੀਂ Sutra ਮਾਡਲ ਅਤੇ OpenAI ਕਲਾਇੰਟ ਦੀ ਵਰਤੋਂ ਕਰਕੇ **ਪੰਜਾਬੀ ਭਾਸ਼ਾ ਵਿੱਚ ਐਪਲੀਕੇਸ਼ਨ** ਬਣਾਉਣ ਦੇ ਵੱਖ-ਵੱਖ ਪੱਖ ਵੇਖੇ।\n",
        "\n",
        "* ਪੰਜਾਬੀ ਟੈਕਸਟ ਜਨਰੇਸ਼ਨ\n",
        "* ਪੰਜਾਬੀ ਵਿੱਚ ਜਾਣਕਾਰੀ ਪ੍ਰਾਪਤੀ\n",
        "* ਪੰਜਾਬੀ ਰਚਨਾਤਮਕ ਲਿਖਤ\n",
        "* ਪੰਜਾਬੀ ਟੈਕਸਟ ਸੰਖੇਪ\n",
        "* ਪੰਜਾਬੀ ਪ੍ਰਸ਼ਨ-ਉੱਤਰ\n",
        "* ਪੰਜਾਬੀ-ਅੰਗਰੇਜ਼ੀ ਅਨੁਵਾਦ\n",
        "* ਪੰਜਾਬੀ ਰਿਵਿਊਜ਼ ਦੀ ਸੈਂਟੀਮੈਂਟ ਵਿਸ਼ਲੇਸ਼ਣ\n",
        "* ਪੰਜਾਬੀ ਵਿੱਚ ਵੱਖ-ਵੱਖ ਫਾਰਮੈਟਾਂ ਵਿੱਚ ਸਮੱਗਰੀ\n",
        "\n",
        "Sutra ਪੰਜਾਬੀ ਅਤੇ ਹੋਰ ਭਾਸ਼ਾਵਾਂ ਵਿੱਚ ਸਮੱਗਰੀ ਪ੍ਰੋਸੈਸਿੰਗ ਲਈ ਬਹੁਤ ਹੀ ਉੱਤਮ ਹੈ।\n"
      ]
    },
    {
      "cell_type": "markdown",
      "metadata": {},
      "source": [
        "## ੧੦. ਹੋਰ ਸਰੋਤ\n",
        "\n",
        "Sutra ਅਤੇ ਪੰਜਾਬੀ ਲਈ ਹੋਰ ਜਾਣੋ:\n",
        "\n",
        "1. [Sutra API ਡੌਕਯੂਮੈਂਟੇਸ਼ਨ](https://docs.two.ai)\n",
        "2. [Sutra ਮਾਡਲ ਦੀਆਂ ਕਿਸਮਾਂ](https://docs.two.ai/models)\n",
        "3. [ਬਹੁ-ਭਾਸ਼ਾਈ ਸਮਰੱਥਾ](https://docs.two.ai/multilingual)\n",
        "\n",
        "Sutra ਨਾਲ ਆਪਣੀਆਂ ਪੰਜਾਬੀ ਅਤੇ ਬਹੁ-ਭਾਸ਼ਾਈ ਐਪਲੀਕੇਸ਼ਨ ਬਣਾਓ!\n"
      ]
    }
  ],
  "metadata": {
    "colab": {
      "provenance": []
    },
    "kernelspec": {
      "display_name": "Python 3",
      "name": "python3"
    },
    "language_info": {
      "name": "python"
    }
  },
  "nbformat": 4,
  "nbformat_minor": 0
}
