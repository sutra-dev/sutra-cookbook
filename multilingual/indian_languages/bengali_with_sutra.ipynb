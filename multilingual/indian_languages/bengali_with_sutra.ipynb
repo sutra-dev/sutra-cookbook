{
  "cells": [
    {
      "cell_type": "markdown",
      "metadata": {},
      "source": [
        "# বাংলা ভাষার জন্য SUTRA মডেল ব্যবহার\n",
        "\n",
        "<img src=\"https://play-lh.googleusercontent.com/_O9p4Z4yucA2NLmZBu9mTJCuBwXeT9NcbtrDN6I8gKlkIPRySV0adOmbyipjSj9Gew\" width=\"150\">\n",
        "\n",
        "[![Colab-এ খুলুন](https://colab.research.google.com/assets/colab-badge.svg)](https://colab.research.google.com/drive/15KiocReD24XFhnOBlWWb1Iu4RYMpsS2Z?usp=sharing)\n",
        "\n",
        "## পরিচিতি\n",
        "এই নোটবুকে দেখানো হয়েছে কিভাবে OpenAI ক্লায়েন্টের সাথে Sutra মডেল ব্যবহার করে বাংলা ভাষার অ্যাপ্লিকেশন তৈরি করা যায়। Sutra বহু ভাষায় কনটেন্ট প্রসেসিং ও জেনারেশনে দক্ষ, বাংলা ভাষার জন্যও উপযুক্ত।\n",
        "\n",
        "### আপনি যা শিখবেন:\n",
        "* কিভাবে Sutra মডেল ও OpenAI ক্লায়েন্ট সেটআপ করবেন\n",
        "* কিভাবে বাংলায় প্রম্পট তৈরি করবেন ও ফলাফল বিশ্লেষণ করবেন\n",
        "* বাংলায় বিভিন্ন ব্যবহারের উদাহরণ\n",
        "* বাংলায় কনটেন্ট জেনারেশনের সেরা অনুশীলন\n"
      ]
    },
    {
      "cell_type": "markdown",
      "metadata": {},
      "source": [
        "## API কী সংগ্রহ করুন\n",
        "শুরু করার আগে নিশ্চিত করুন:\n",
        "1. SUTRA API কী ([TWO AI-এর SUTRA API পেজে](https://www.two.ai/sutra/api) থেকে সংগ্রহ করুন)\n",
        "2. Python ও Jupyter Notebook-এর মৌলিক জ্ঞান\n",
        "\n",
        "এই নোটবুকটি Google Colab-এ চালানোর জন্য ডিজাইন করা হয়েছে, তাই আপনার কম্পিউটারে Python ইনস্টল করার দরকার নেই।"
      ]
    },
    {
      "cell_type": "markdown",
      "metadata": {},
      "source": [
        "## ডিপেন্ডেন্সি ইনস্টল করুন\n",
        "প্রথমে প্রয়োজনীয় লাইব্রেরি ইনস্টল করুন।"
      ]
    },
    {
      "cell_type": "code",
      "execution_count": null,
      "metadata": {},
      "outputs": [],
      "source": [
        "# প্রয়োজনীয় প্যাকেজ ইনস্টল করুন\n",
        "!pip install openai"
      ]
    },
    {
      "cell_type": "markdown",
      "metadata": {},
      "source": [
        "### প্রয়োজনীয় লাইব্রেরি ইম্পোর্ট করুন\n"
      ]
    },
    {
      "cell_type": "code",
      "execution_count": null,
      "metadata": {},
      "outputs": [],
      "source": [
        "import os\n",
        "import time\n",
        "from openai import OpenAI\n",
        "from IPython.display import display, Markdown, HTML\n",
        "from google.colab import userdata"
      ]
    },
    {
      "cell_type": "markdown",
      "metadata": {},
      "source": [
        "## অথেনটিকেশন\n",
        "Sutra API ব্যবহার করতে হলে আপনাকে আপনার API কী সেট করতে হবে।"
      ]
    },
    {
      "cell_type": "code",
      "execution_count": null,
      "metadata": {},
      "outputs": [],
      "source": [
        "# উদাহরণ: কোডে কী সেট করুন\n",
        "os.environ[\"SUTRA_API_KEY\"] = userdata.get('SUTRA_API_KEY')"
      ]
    },
    {
      "cell_type": "markdown",
      "metadata": {},
      "source": [
        "### Sutra API ক্লায়েন্ট তৈরি করুন\n"
      ]
    },
    {
      "cell_type": "code",
      "execution_count": null,
      "metadata": {},
      "outputs": [],
      "source": [
        "client = OpenAI(\n",
        "    base_url=\"https://api.two.ai/v2\",\n",
        "    api_key=os.environ.get(\"SUTRA_API_KEY\")\n",
        ")"
      ]
    },
    {
      "cell_type": "markdown",
      "metadata": {},
      "source": [
        "## সহায়ক ফাংশন\n",
        "\n",
        "বাংলা টাস্কের জন্য Sutra API-এর সাথে ইন্টারঅ্যাক্ট করার জন্য সহায়ক ফাংশন তৈরি করুন।\n"
      ]
    },
    {
      "cell_type": "code",
      "execution_count": null,
      "metadata": {},
      "outputs": [],
      "source": [
        "def get_sutra_response(prompt, model=\"sutra-v2\", temperature=0.7, max_tokens=1024):\n",
        "    \"\"\"Sutra AI থেকে সাধারণ রেসপন্স পাওয়ার ফাংশন\"\"\"\n",
        "    try:\n",
        "        start_time = time.time()\n",
        "        response = client.chat.completions.create(\n",
        "            model=model,\n",
        "            messages=[{\"role\": \"user\", \"content\": prompt}],\n",
        "            temperature=temperature,\n",
        "            max_tokens=max_tokens\n",
        "        )\n",
        "        result = response.choices[0].message.content\n",
        "        time_taken = time.time() - start_time\n",
        "        print(f\"প্রম্পট: {prompt}\")\n",
        "        print(f\"উত্তর: {result}\")\n",
        "        print(f\"সময়: {time_taken:.2f} সেকেন্ড\")\n",
        "        return result, time_taken\n",
        "    except Exception as e:\n",
        "        error_msg = f\"ত্রুটি: {str(e)}\"\n",
        "        print(error_msg)\n",
        "        return error_msg, 0\n"
      ]
    },
    {
      "cell_type": "markdown",
      "metadata": {},
      "source": [
        "## ১. বাংলা টেক্সট জেনারেশন\n",
        "\n",
        "চলুন কিছু সাধারণ বাংলা টেক্সট জেনারেশন দিয়ে শুরু করি।\n"
      ]
    },
    {
      "cell_type": "code",
      "execution_count": null,
      "metadata": {},
      "outputs": [],
      "source": [
        "bengali_prompt = 'হ্যালো, আমার নাম রাহুল। আপনি কেমন আছেন?'\n",
        "response, time_taken = get_sutra_response(bengali_prompt)"
      ]
    },
    {
      "cell_type": "markdown",
      "metadata": {},
      "source": [
        "## ২. বাংলায় তথ্য অনুসন্ধান\n",
        "\n",
        "Sutra ব্যবহার করে বাংলায় তথ্য অনুসন্ধান করুন।\n"
      ]
    },
    {
      "cell_type": "code",
      "execution_count": null,
      "metadata": {},
      "outputs": [],
      "source": [
        "info_prompt = 'বাংলার পাঁচটি প্রধান উৎসব ও তাদের গুরুত্ব সম্পর্কে বলুন।'\n",
        "response, time_taken = get_sutra_response(info_prompt)"
      ]
    },
    {
      "cell_type": "markdown",
      "metadata": {},
      "source": [
        "## ৩. বাংলা সৃজনশীল লেখা\n",
        "\n",
        "Sutra বাংলা ভাষায় সৃজনশীল কনটেন্ট তৈরি করতে পারে।\n"
      ]
    },
    {
      "cell_type": "code",
      "execution_count": null,
      "metadata": {},
      "outputs": [],
      "source": [
        "creative_prompt = 'বাংলার গ্রাম নিয়ে একটি ছোট কবিতা লিখুন।'\n",
        "response, time_taken = get_sutra_response(creative_prompt, temperature=0.8)"
      ]
    },
    {
      "cell_type": "markdown",
      "metadata": {},
      "source": [
        "## ৪. বাংলা টেক্সট সারাংশ\n",
        "\n",
        "Sutra বাংলা টেক্সট সংক্ষেপ করতে পারে।\n"
      ]
    },
    {
      "cell_type": "code",
      "execution_count": null,
      "metadata": {},
      "outputs": [],
      "source": [
        "long_text = \"\"\"\n",
        "বাংলার ইতিহাস সমৃদ্ধ ও বৈচিত্র্যময়। বহু যুগ ধরে বাংলা সংস্কৃতি ও সাহিত্য বিশ্বে বিশেষ স্থান পেয়েছে।\n",
        "\n",
        "আধুনিক যুগে বাংলা ভাষা ও সংস্কৃতি নতুন উচ্চতায় পৌঁছেছে।\n",
        "\"\"\"\n",
        "summarize_prompt = f'নিম্নের টেক্সটটি ১০০ শব্দের মধ্যে সংক্ষেপ করুন:\\n\\n{long_text}'\n",
        "summary, time_taken = get_sutra_response(summarize_prompt, temperature=0.3)"
      ]
    },
    {
      "cell_type": "markdown",
      "metadata": {},
      "source": [
        "## ৫. বাংলা প্রশ্নোত্তর\n",
        "\n",
        "Sutra বাংলা প্রশ্নোত্তর সমর্থন করে।\n"
      ]
    },
    {
      "cell_type": "code",
      "execution_count": null,
      "metadata": {},
      "outputs": [],
      "source": [
        "context = \"\"\"\n",
        "বাংলা কবিতা ও সাহিত্য আমাদের সংস্কৃতির গর্ব। কবিতায় প্রকৃতি, প্রেম, জীবনবোধ ফুটে ওঠে।\n",
        "\"\"\"\n",
        "qa_prompt = f'নিম্নের তথ্যের ভিত্তিতে প্রশ্নগুলোর উত্তর দিন:\\n\\n{context}\\n\\nপ্রশ্ন ১: বাংলা কবিতায় কী কী বিষয় ফুটে ওঠে?\\nপ্রশ্ন ২: বাংলা সাহিত্য ও কবিতার সাংস্কৃতিক গুরুত্ব কী?'\n",
        "answers, time_taken = get_sutra_response(qa_prompt, temperature=0.2)"
      ]
    },
    {
      "cell_type": "markdown",
      "metadata": {},
      "source": [
        "## ৬. বাংলা-ইংরেজি অনুবাদ\n",
        "\n",
        "Sutra বাংলা ও ইংরেজি ভাষার মধ্যে অনুবাদ করতে পারে।\n"
      ]
    },
    {
      "cell_type": "code",
      "execution_count": null,
      "metadata": {},
      "outputs": [],
      "source": [
        "bengali_text = 'বাংলা একটি সমৃদ্ধ ভাষা, যার সাহিত্য ও সংস্কৃতি বিশ্ববিখ্যাত।'\n",
        "translate_bn_to_en_prompt = f'নিম্নের বাংলা টেক্সটটি ইংরেজিতে অনুবাদ করুন:\\n\\n{bengali_text}'\n",
        "translation_en, time_taken = get_sutra_response(translate_bn_to_en_prompt)"
      ]
    },
    {
      "cell_type": "code",
      "execution_count": null,
      "metadata": {},
      "outputs": [],
      "source": [
        "english_text = 'Artificial intelligence is changing the way we live and work. It is used in healthcare, education, and many other fields.'\n",
        "translate_en_to_bn_prompt = f'নিম্নের ইংরেজি টেক্সটটি বাংলায় অনুবাদ করুন:\\n\\n{english_text}'\n",
        "translation_bn, time_taken = get_sutra_response(translate_en_to_bn_prompt)"
      ]
    },
    {
      "cell_type": "markdown",
      "metadata": {},
      "source": [
        "## ৭. বাংলা রিভিউর সেন্টিমেন্ট বিশ্লেষণ\n",
        "\n",
        "Sutra বাংলা রিভিউর সেন্টিমেন্ট বিশ্লেষণ করতে পারে।\n"
      ]
    },
    {
      "cell_type": "code",
      "execution_count": null,
      "metadata": {},
      "outputs": [],
      "source": [
        "reviews = [\n",
        "    'এই সিনেমাটি খুব ভালো। গল্পটি আকর্ষণীয়, অভিনয় অসাধারণ।',\n",
        "    'খাবারটা একদম ভালো ছিল না, সার্ভিসও খারাপ।',\n",
        "    'প্রোডাক্টটি মোটামুটি, তবে দাম একটু বেশি।',\n",
        "    'এই বইটি আমার ভালো লেগেছে, লেখক বিষয়টি ভালোভাবে ব্যাখ্যা করেছেন।',\n",
        "    'ভ্রমণটা হতাশাজনক ছিল, হোটেলটি অপরিচ্ছন্ন, কর্মীরা অসৌজন্যমূলক।'\n",
        "]\n",
        "\n",
        "sentiment_prompt = 'নিম্নের বাংলা রিভিউগুলোর সেন্টিমেন্ট বিশ্লেষণ করুন এবং প্রতিটিকে “ইতিবাচক”, “নেতিবাচক” বা “নিরপেক্ষ” হিসেবে শ্রেণিবদ্ধ করুন:\\n\\n'\n",
        "for i, review in enumerate(reviews):\n",
        "    sentiment_prompt += f'{i+1}. {review}\n",
        "'\n",
        "sentiment_analysis, time_taken = get_sutra_response(sentiment_prompt, temperature=0.1)\n"
      ]
    },
    {
      "cell_type": "markdown",
      "metadata": {},
      "source": [
        "## ৮. বাংলায় বিভিন্ন ফরম্যাটে কনটেন্ট জেনারেশন\n",
        "\n",
        "Sutra বাংলায় বিভিন্ন ফরম্যাটে কনটেন্ট তৈরি করতে পারে।\n"
      ]
    },
    {
      "cell_type": "code",
      "execution_count": null,
      "metadata": {},
      "outputs": [],
      "source": [
        "blog_prompt = '“বাংলা খাবার ও স্বাস্থ্যের প্রভাব” বিষয়ক একটি ব্লগ লিখুন। শিরোনাম, ভূমিকা, মূল পয়েন্ট ও উপসংহার অন্তর্ভুক্ত করুন।'\n",
        "blog_post = get_sutra_response(blog_prompt, temperature=0.7)\n"
      ]
    },
    {
      "cell_type": "markdown",
      "metadata": {},
      "source": [
        "## ৯. উপসংহার\n",
        "\n",
        "এই নোটবুকে আমরা Sutra মডেল ও OpenAI ক্লায়েন্ট ব্যবহার করে **বাংলা ভাষার অ্যাপ্লিকেশন** নির্মাণের বিভিন্ন দিক দেখেছি।\n",
        "\n",
        "* বাংলা টেক্সট জেনারেশন\n",
        "* বাংলায় তথ্য অনুসন্ধান\n",
        "* বাংলা সৃজনশীল লেখা\n",
        "* বাংলা টেক্সট সারাংশ\n",
        "* বাংলা প্রশ্নোত্তর\n",
        "* বাংলা-ইংরেজি অনুবাদ\n",
        "* বাংলা রিভিউর সেন্টিমেন্ট বিশ্লেষণ\n",
        "* বাংলায় বিভিন্ন ফরম্যাটে কনটেন্ট জেনারেশন\n",
        "\n",
        "Sutra বাংলা ভাষায় এবং বহু ভাষার কনটেন্ট প্রসেসিংয়ে অত্যন্ত কার্যকর।\n"
      ]
    },
    {
      "cell_type": "markdown",
      "metadata": {},
      "source": [
        "## ১০. আরও রিসোর্স\n",
        "\n",
        "Sutra ও বাংলা ভাষার জন্য আরও জানুন:\n",
        "\n",
        "1. [Sutra API ডকুমেন্টেশন](https://docs.two.ai)\n",
        "2. [Sutra মডেলের ধরন](https://docs.two.ai/models)\n",
        "3. [বহুভাষিক সক্ষমতা](https://docs.two.ai/multilingual)\n",
        "\n",
        "Sutra দিয়ে নিজের বাংলা ও বহুভাষিক অ্যাপ্লিকেশন তৈরি করুন!\n"
      ]
    }
  ],
  "metadata": {
    "colab": {
      "provenance": []
    },
    "kernelspec": {
      "display_name": "Python 3",
      "name": "python3"
    },
    "language_info": {
      "name": "python"
    }
  },
  "nbformat": 4,
  "nbformat_minor": 0
}
