{
  "cells": [
    {
      "cell_type": "markdown",
      "metadata": {},
      "source": [
        "# ಕನ್ನಡಕ್ಕಾಗಿ SUTRA ಮಾದರಿಯ ಬಳಕೆ\n",
        "\n",
        "<img src=\"https://play-lh.googleusercontent.com/_O9p4Z4yucA2NLmZBu9mTJCuBwXeT9NcbtrDN6I8gKlkIPRySV0adOmbyipjSj9Gew\" width=\"150\">\n",
        "\n",
        "[![Colab ನಲ್ಲಿ ತೆರೆಯಿರಿ](https://colab.research.google.com/assets/colab-badge.svg)](https://colab.research.google.com/drive/1Za0lmUw0yP5vXA2J63f-Z-sBxZeSacA5?usp=sharing)\n",
        "\n",
        "## ಪರಿಚಯ\n",
        "ಈ ನೋಟ್ಬುಕ್‌ನಲ್ಲಿ OpenAI ಕ್ಲೈಂಟ್‌ನೊಂದಿಗೆ Sutra ಮಾದರಿಯನ್ನು ಕನ್ನಡ ಭಾಷೆಗೆ ಹೇಗೆ ಬಳಸಬಹುದು ಎಂಬುದನ್ನು ತೋರಿಸಲಾಗಿದೆ. Sutra ಬಹುಭಾಷಾ ಸಾಮರ್ಥ್ಯ ಹೊಂದಿದ್ದು, ಕನ್ನಡಕ್ಕೂ ಅನ್ವಯಿಸುತ್ತದೆ.\n",
        "\n",
        "### ನೀವು ಕಲಿಯುವುದು:\n",
        "* Sutra ಮಾದರಿ ಮತ್ತು OpenAI ಕ್ಲೈಂಟ್ ಸೆಟಪ್ ಮಾಡುವುದು\n",
        "* ಕನ್ನಡದಲ್ಲಿ ಪ್ರಾಂಪ್ಟ್ ರಚಿಸಿ ಮತ್ತು ಫಲಿತಾಂಶಗಳನ್ನು ಅರ್ಥಮಾಡಿಕೊಳ್ಳುವುದು\n",
        "* ಕನ್ನಡದಲ್ಲಿ ವಿವಿಧ ಬಳಕೆದಾರ ಉದಾಹರಣೆಗಳು\n",
        "* ಕನ್ನಡದಲ್ಲಿ ವಿಷಯ ಸೃಷ್ಟಿಗೆ ಉತ್ತಮ ಅಭ್ಯಾಸಗಳು\n"
      ]
    },
    {
      "cell_type": "markdown",
      "metadata": {},
      "source": [
        "## ನಿಮ್ಮ API ಕೀ ಪಡೆಯಿರಿ\n",
        "ಪ್ರಾರಂಭಿಸಲು ಖಚಿತಪಡಿಸಿಕೊಳ್ಳಿ:\n",
        "1. SUTRA API ಕೀ ([TWO AI ನ SUTRA API ಪುಟದಿಂದ](https://www.two.ai/sutra/api) ಪಡೆಯಿರಿ)\n",
        "2. Python ಮತ್ತು Jupyter Notebook ಬಗ್ಗೆ ಮೂಲಭೂತ ಜ್ಞಾನ\n",
        "\n",
        "ಈ ನೋಟ್ಬುಕ್ Google Colab ನಲ್ಲಿ ಕಾರ್ಯನಿರ್ವಹಿಸಲು ವಿನ್ಯಾಸಗೊಳಿಸಲಾಗಿದೆ, ಆದ್ದರಿಂದ ನಿಮ್ಮ ಕಂಪ್ಯೂಟರ್‌ನಲ್ಲಿ Python ಸ್ಥಾಪಿಸುವ ಅಗತ್ಯವಿಲ್ಲ."
      ]
    },
    {
      "cell_type": "markdown",
      "metadata": {},
      "source": [
        "## ಅವಶ್ಯಕ ಪ್ಯಾಕೇಜ್‌ಗಳನ್ನು ಇನ್‌ಸ್ಟಾಲ್ ಮಾಡಿ\n",
        "ಮೊದಲು ಅಗತ್ಯವಿರುವ ಲೈಬ್ರರಿಗಳನ್ನು ಇನ್‌ಸ್ಟಾಲ್ ಮಾಡಿ."
      ]
    },
    {
      "cell_type": "code",
      "execution_count": null,
      "metadata": {},
      "outputs": [],
      "source": [
        "# ಅಗತ್ಯವಿರುವ ಪ್ಯಾಕೇಜ್‌ಗಳನ್ನು ಇನ್‌ಸ್ಟಾಲ್ ಮಾಡಿ\n",
        "!pip install openai"
      ]
    },
    {
      "cell_type": "markdown",
      "metadata": {},
      "source": [
        "### ಅಗತ್ಯವಿರುವ ಲೈಬ್ರರಿಗಳನ್ನು ಇಂಪೋರ್ಟ್ ಮಾಡಿ\n"
      ]
    },
    {
      "cell_type": "code",
      "execution_count": null,
      "metadata": {},
      "outputs": [],
      "source": [
        "import os\n",
        "import time\n",
        "from openai import OpenAI\n",
        "from IPython.display import display, Markdown, HTML\n",
        "from google.colab import userdata"
      ]
    },
    {
      "cell_type": "markdown",
      "metadata": {},
      "source": [
        "## ದೃಢೀಕರಣ (Authentication)\n",
        "Sutra API ಬಳಸಲು ನಿಮ್ಮ API ಕೀ ಅನ್ನು ಸೆಟ್ ಮಾಡಿ."
      ]
    },
    {
      "cell_type": "code",
      "execution_count": null,
      "metadata": {},
      "outputs": [],
      "source": [
        "# ಉದಾಹರಣೆ: ಕೋಡ್‌ನಲ್ಲಿ ಕೀ ಸೆಟ್ ಮಾಡಿ\n",
        "os.environ[\"SUTRA_API_KEY\"] = userdata.get('SUTRA_API_KEY')"
      ]
    },
    {
      "cell_type": "markdown",
      "metadata": {},
      "source": [
        "### Sutra API ಕ್ಲೈಂಟ್ ರಚಿಸಿ\n"
      ]
    },
    {
      "cell_type": "code",
      "execution_count": null,
      "metadata": {},
      "outputs": [],
      "source": [
        "client = OpenAI(\n",
        "    base_url=\"https://api.two.ai/v2\",\n",
        "    api_key=os.environ.get(\"SUTRA_API_KEY\")\n",
        ")"
      ]
    },
    {
      "cell_type": "markdown",
      "metadata": {},
      "source": [
        "## ಸಹಾಯಕ ಕಾರ್ಯಗಳು\n",
        "\n",
        "ಕನ್ನಡ ಟಾಸ್ಕ್‌ಗಳಿಗೆ Sutra API ಯೊಂದಿಗೆ ಸಂವಹನ ಮಾಡಲು ಸಹಾಯಕ ಕಾರ್ಯಗಳನ್ನು ರಚಿಸಿ.\n"
      ]
    },
    {
      "cell_type": "code",
      "execution_count": null,
      "metadata": {},
      "outputs": [],
      "source": [
        "def get_sutra_response(prompt, model=\"sutra-v2\", temperature=0.7, max_tokens=1024):\n",
        "    \"\"\"Sutra AI ನಿಂದ ಸರಳ ಪ್ರತಿಕ್ರಿಯೆ ಪಡೆಯಲು\"\"\"\n",
        "    try:\n",
        "        start_time = time.time()\n",
        "        response = client.chat.completions.create(\n",
        "            model=model,\n",
        "            messages=[{\"role\": \"user\", \"content\": prompt}],\n",
        "            temperature=temperature,\n",
        "            max_tokens=max_tokens\n",
        "        )\n",
        "        result = response.choices[0].message.content\n",
        "        time_taken = time.time() - start_time\n",
        "        print(f\"ಪ್ರಾಂಪ್ಟ್: {prompt}\")\n",
        "        print(f\"ಉತ್ತರ: {result}\")\n",
        "        print(f\"ಸಮಯ: {time_taken:.2f} ಸೆಕೆಂಡು\")\n",
        "        return result, time_taken\n",
        "    except Exception as e:\n",
        "        error_msg = f\"ದೋಷ: {str(e)}\"\n",
        "        print(error_msg)\n",
        "        return error_msg, 0\n"
      ]
    },
    {
      "cell_type": "markdown",
      "metadata": {},
      "source": [
        "## ೧. ಕನ್ನಡ ಪಠ್ಯ ರಚನೆ\n",
        "\n",
        "ಹೆಚ್ಚಿನ ಸಾಮಾನ್ಯ ಕನ್ನಡ ಪಠ್ಯ ರಚನೆಯೊಂದಿಗೆ ಪ್ರಾರಂಭಿಸೋಣ.\n"
      ]
    },
    {
      "cell_type": "code",
      "execution_count": null,
      "metadata": {},
      "outputs": [],
      "source": [
        "kannada_prompt = 'ನಮಸ್ಕಾರ, ನನ್ನ ಹೆಸರು ರವಿ. ನೀವು ಹೇಗಿದ್ದೀರಾ?'\n",
        "response, time_taken = get_sutra_response(kannada_prompt)"
      ]
    },
    {
      "cell_type": "markdown",
      "metadata": {},
      "source": [
        "## ೨. ಕನ್ನಡದಲ್ಲಿ ಮಾಹಿತಿ ಹುಡುಕುವುದು\n",
        "\n",
        "Sutra ಬಳಸಿ ಕನ್ನಡದಲ್ಲಿ ಮಾಹಿತಿ ಹುಡುಕಬಹುದು.\n"
      ]
    },
    {
      "cell_type": "code",
      "execution_count": null,
      "metadata": {},
      "outputs": [],
      "source": [
        "info_prompt = 'ಕರ್ನಾಟಕದ ಐದು ಪ್ರಮುಖ ಹಬ್ಬಗಳು ಮತ್ತು ಅವುಗಳ ಮಹತ್ವವನ್ನು ವಿವರಿಸಿ.'\n",
        "response, time_taken = get_sutra_response(info_prompt)"
      ]
    },
    {
      "cell_type": "markdown",
      "metadata": {},
      "source": [
        "## ೩. ಕನ್ನಡ ಸೃಜನಾತ್ಮಕ ಬರವಣಿಗೆ\n",
        "\n",
        "Sutra ಕನ್ನಡದಲ್ಲಿ ಸೃಜನಾತ್ಮಕ ವಿಷಯವನ್ನು ರಚಿಸಬಹುದು.\n"
      ]
    },
    {
      "cell_type": "code",
      "execution_count": null,
      "metadata": {},
      "outputs": [],
      "source": [
        "creative_prompt = 'ಕರ್ನಾಟಕದ ಗ್ರಾಮಗಳ ಬಗ್ಗೆ ಒಂದು ಚಿಕ್ಕ ಕವನವನ್ನು ಬರೆಯಿರಿ.'\n",
        "response, time_taken = get_sutra_response(creative_prompt, temperature=0.8)"
      ]
    },
    {
      "cell_type": "markdown",
      "metadata": {},
      "source": [
        "## ೪. ಕನ್ನಡ ಪಠ್ಯ ಸಂಕ್ಷಿಪ್ತಿ\n",
        "\n",
        "Sutra ಕನ್ನಡ ಪಠ್ಯವನ್ನು ಸಂಕ್ಷಿಪ್ತಗೊಳಿಸಬಹುದು.\n"
      ]
    },
    {
      "cell_type": "code",
      "execution_count": null,
      "metadata": {},
      "outputs": [],
      "source": [
        "long_text = \"\"\"\n",
        "ಕರ್ನಾಟಕದ ಇತಿಹಾಸ ಬಹುಪಾಲು ಶ್ರೀಮಂತವಾಗಿದೆ. ಕನ್ನಡ ಸಾಹಿತ್ಯ ಮತ್ತು ಸಂಸ್ಕೃತಿ ವಿಶ್ವದಲ್ಲಿ ವಿಶಿಷ್ಟ ಸ್ಥಾನ ಹೊಂದಿವೆ.\n",
        "\n",
        "ಆಧುನಿಕ ಯುಗದಲ್ಲಿ ಕನ್ನಡ ಭಾಷೆ ಮತ್ತು ಸಂಸ್ಕೃತಿ ಹೊಸ ಎತ್ತರಗಳಿಗೆ ತಲುಪಿವೆ.\n",
        "\"\"\"\n",
        "summarize_prompt = f'ಕೆಳಗಿನ ಪಠ್ಯವನ್ನು 100 ಪದಗಳಲ್ಲಿ ಸಂಕ್ಷಿಪ್ತಗೊಳಿಸಿ:\\n\\n{long_text}'\n",
        "summary, time_taken = get_sutra_response(summarize_prompt, temperature=0.3)"
      ]
    },
    {
      "cell_type": "markdown",
      "metadata": {},
      "source": [
        "## ೫. ಕನ್ನಡ ಪ್ರಶ್ನೋತ್ತರ\n",
        "\n",
        "Sutra ಕನ್ನಡ ಪ್ರಶ್ನೋತ್ತರವನ್ನು ಬೆಂಬಲಿಸುತ್ತದೆ.\n"
      ]
    },
    {
      "cell_type": "code",
      "execution_count": null,
      "metadata": {},
      "outputs": [],
      "source": [
        "context = \"\"\"\n",
        "ಕನ್ನಡ ಕಾವ್ಯ ಮತ್ತು ಸಾಹಿತ್ಯವು ನಮ್ಮ ಸಂಸ್ಕೃತಿಯ ಭಾಗವಾಗಿದೆ. ಇವುಗಳಲ್ಲಿ ಪ್ರಕೃತಿ, ಪ್ರೀತಿ, ಜೀವನದ ಬಗ್ಗೆ ಚಿಂತನೆಗಳು ವ್ಯಕ್ತವಾಗುತ್ತವೆ.\n",
        "\"\"\"\n",
        "qa_prompt = f'ಕೆಳಗಿನ ಪ್ಯಾರಾಗ್ರಾಫ್ ಆಧಾರದ ಮೇಲೆ ಪ್ರಶ್ನೆಗಳಿಗೆ ಉತ್ತರ ನೀಡಿ:\\n\\n{context}\\n\\nಪ್ರಶ್ನೆ 1: ಕನ್ನಡ ಕಾವ್ಯದಲ್ಲಿ ಯಾವ ವಿಷಯಗಳು ವ್ಯಕ್ತವಾಗುತ್ತವೆ?\\nಪ್ರಶ್ನೆ 2: ಕನ್ನಡ ಸಾಹಿತ್ಯ ಮತ್ತು ಕಾವ್ಯದ ಸಾಂಸ್ಕೃತಿಕ ಮಹತ್ವವೇನು?'\n",
        "answers, time_taken = get_sutra_response(qa_prompt, temperature=0.2)"
      ]
    },
    {
      "cell_type": "markdown",
      "metadata": {},
      "source": [
        "## ೬. ಕನ್ನಡ-ಇಂಗ್ಲಿಷ್ ಅನುವಾದ\n",
        "\n",
        "Sutra ಕನ್ನಡ ಮತ್ತು ಇಂಗ್ಲಿಷ್ ನಡುವಿನ ಅನುವಾದವನ್ನು ಮಾಡಬಹುದು.\n"
      ]
    },
    {
      "cell_type": "code",
      "execution_count": null,
      "metadata": {},
      "outputs": [],
      "source": [
        "kannada_text = 'ಕನ್ನಡವು ಶ್ರೀಮಂತ ಭಾಷೆ, ಅದರ ಸಾಹಿತ್ಯ ಮತ್ತು ಸಂಸ್ಕೃತಿ ವಿಶ್ವಪ್ರಸಿದ್ಧ.'\n",
        "translate_kn_to_en_prompt = f'ಕೆಳಗಿನ ಕನ್ನಡ ಪಠ್ಯವನ್ನು ಇಂಗ್ಲಿಷ್‌ಗೆ ಅನುವಾದಿಸಿ:\\n\\n{kannada_text}'\n",
        "translation_en, time_taken = get_sutra_response(translate_kn_to_en_prompt)"
      ]
    },
    {
      "cell_type": "code",
      "execution_count": null,
      "metadata": {},
      "outputs": [],
      "source": [
        "english_text = 'Artificial intelligence is changing the way we live and work. It is used in healthcare, education, and many other fields.'\n",
        "translate_en_to_kn_prompt = f'ಕೆಳಗಿನ ಇಂಗ್ಲಿಷ್ ಪಠ್ಯವನ್ನು ಕನ್ನಡಕ್ಕೆ ಅನುವಾದಿಸಿ:\\n\\n{english_text}'\n",
        "translation_kn, time_taken = get_sutra_response(translate_en_to_kn_prompt)"
      ]
    },
    {
      "cell_type": "markdown",
      "metadata": {},
      "source": [
        "## ೭. ಕನ್ನಡ ವಿಮರ್ಶೆಗಳ ಭಾವನಾತ್ಮಕ ವಿಶ್ಲೇಷಣೆ\n",
        "\n",
        "Sutra ಕನ್ನಡ ವಿಮರ್ಶೆಗಳ ಭಾವನಾತ್ಮಕ ವಿಶ್ಲೇಷಣೆ ಮಾಡಬಹುದು.\n"
      ]
    },
    {
      "cell_type": "code",
      "execution_count": null,
      "metadata": {},
      "outputs": [],
      "source": [
        "reviews = [\n",
        "    'ಈ ಚಲನಚಿತ್ರ ಅತ್ಯುತ್ತಮವಾಗಿದೆ. ಕಥೆ ಆಕರ್ಷಕ, ಅಭಿನಯ ಶ್ರೇಷ್ಠ.',\n",
        "    'ಆಹಾರ ಉತ್ತಮವಾಗಿರಲಿಲ್ಲ, ಸೇವೆ ಕೂಡ ನಿರಾಶಾಜನಕ.',\n",
        "    'ಉತ್ಪನ್ನ ಸರಾಸರಿ, ಆದರೆ ಬೆಲೆ ಸ್ವಲ್ಪ ಹೆಚ್ಚು.',\n",
        "    'ಈ ಪುಸ್ತಕ ನನಗೆ ಇಷ್ಟವಾಯಿತು, ಲೇಖಕರು ವಿಷಯವನ್ನು ಚೆನ್ನಾಗಿ ವಿವರಿಸಿದ್ದಾರೆ.',\n",
        "    'ಪ್ರಯಾಣ ನಿರಾಶಾಜನಕವಾಗಿತ್ತು, ಹೋಟೆಲ್ ಅಶುದ್ಧವಾಗಿತ್ತು ಮತ್ತು ಸಿಬ್ಬಂದಿ ಅಸೌಕರ್ಯಕರರಾಗಿದ್ದರು.'\n",
        "]\n",
        "\n",
        "sentiment_prompt = 'ಕೆಳಗಿನ ಕನ್ನಡ ವಿಮರ್ಶೆಗಳ ಭಾವನಾತ್ಮಕ ವಿಶ್ಲೇಷಣೆ ಮಾಡಿ ಮತ್ತು ಪ್ರತಿ ಒಂದನ್ನು “ಧನಾತ್ಮಕ”, “ಋಣಾತ್ಮಕ” ಅಥವಾ “ನಿರಪೇಕ್ಷ” ಎಂದು ವರ್ಗಾವಣೆ ಮಾಡಿ:\\n\\n'\n",
        "for i, review in enumerate(reviews):\n",
        "    sentiment_prompt += f'{i+1}. {review}\n",
        "'\n",
        "sentiment_analysis, time_taken = get_sutra_response(sentiment_prompt, temperature=0.1)\n"
      ]
    },
    {
      "cell_type": "markdown",
      "metadata": {},
      "source": [
        "## ೮. ಕನ್ನಡದಲ್ಲಿ ವಿವಿಧ ಸ್ವರೂಪಗಳಲ್ಲಿ ವಿಷಯ ರಚನೆ\n",
        "\n",
        "Sutra ಕನ್ನಡದಲ್ಲಿ ವಿವಿಧ ಸ್ವರೂಪಗಳಲ್ಲಿ ವಿಷಯವನ್ನು ರಚಿಸಬಹುದು.\n"
      ]
    },
    {
      "cell_type": "code",
      "execution_count": null,
      "metadata": {},
      "outputs": [],
      "source": [
        "blog_prompt = '“ಕನ್ನಡ ಆಹಾರ ಮತ್ತು ಆರೋಗ್ಯದ ಮೇಲೆ ಅದರ ಪ್ರಭಾವ” ವಿಷಯದ ಕುರಿತು ಬ್ಲಾಗ್ ಬರೆಯಿರಿ. ಶೀರ್ಷಿಕೆ, ಪರಿಚಯ, ಮುಖ್ಯ ಅಂಶಗಳು ಮತ್ತು ಸಮಾರೋಪವನ್ನು ಸೇರಿಸಿ.'\n",
        "blog_post = get_sutra_response(blog_prompt, temperature=0.7)\n"
      ]
    },
    {
      "cell_type": "markdown",
      "metadata": {},
      "source": [
        "## ೯. ಸಮಾರೋಪ\n",
        "\n",
        "ಈ ನೋಟ್ಬುಕ್‌ನಲ್ಲಿ ನಾವು Sutra ಮಾದರಿ ಮತ್ತು OpenAI ಕ್ಲೈಂಟ್ ಬಳಸಿ **ಕನ್ನಡ ಭಾಷೆಯ ಅನ್ವಯಿಕೆಗಳು** ಹೇಗೆ ಮಾಡಬಹುದು ಎಂಬುದನ್ನು ನೋಡಿದೆವು.\n",
        "\n",
        "* ಕನ್ನಡ ಪಠ್ಯ ರಚನೆ\n",
        "* ಕನ್ನಡದಲ್ಲಿ ಮಾಹಿತಿ ಹುಡುಕುವುದು\n",
        "* ಕನ್ನಡ ಸೃಜನಾತ್ಮಕ ಬರವಣಿಗೆ\n",
        "* ಕನ್ನಡ ಪಠ್ಯ ಸಂಕ್ಷಿಪ್ತಿ\n",
        "* ಕನ್ನಡ ಪ್ರಶ್ನೋತ್ತರ\n",
        "* ಕನ್ನಡ-ಇಂಗ್ಲಿಷ್ ಅನುವಾದ\n",
        "* ಕನ್ನಡ ವಿಮರ್ಶೆಗಳ ಭಾವನಾತ್ಮಕ ವಿಶ್ಲೇಷಣೆ\n",
        "* ಕನ್ನಡದಲ್ಲಿ ವಿವಿಧ ಸ್ವರೂಪಗಳಲ್ಲಿ ವಿಷಯ ರಚನೆ\n",
        "\n",
        "Sutra ಕನ್ನಡ ಮತ್ತು ಇತರ ಭಾಷೆಗಳ ವಿಷಯ ಸಂಸ್ಕರಣೆಗೆ ಅತ್ಯುತ್ತಮ ಪರಿಹಾರವಾಗಿದೆ.\n"
      ]
    },
    {
      "cell_type": "markdown",
      "metadata": {},
      "source": [
        "## ೧೦. ಹೆಚ್ಚಿನ ಸಂಪನ್ಮೂಲಗಳು\n",
        "\n",
        "Sutra ಮತ್ತು ಕನ್ನಡಕ್ಕೆ ಸಂಬಂಧಿಸಿದಂತೆ ಹೆಚ್ಚಿನ ಮಾಹಿತಿ ಪಡೆಯಿರಿ:\n",
        "\n",
        "1. [Sutra API ಡಾಕ್ಯುಮೆಂಟೇಶನ್](https://docs.two.ai)\n",
        "2. [Sutra ಮಾದರಿಗಳ ಪ್ರಕಾರಗಳು](https://docs.two.ai/models)\n",
        "3. [ಬಹುಭಾಷಾ ಸಾಮರ್ಥ್ಯ](https://docs.two.ai/multilingual)\n",
        "\n",
        "Sutra ಬಳಸಿ ನಿಮ್ಮ ಕನ್ನಡ ಮತ್ತು ಬಹುಭಾಷಾ ಅನ್ವಯಿಕೆಗಳನ್ನು ನಿರ್ಮಿಸಿ!\n"
      ]
    }
  ],
  "metadata": {
    "colab": {
      "provenance": []
    },
    "kernelspec": {
      "display_name": "Python 3",
      "name": "python3"
    },
    "language_info": {
      "name": "python"
    }
  },
  "nbformat": 4,
  "nbformat_minor": 0
}
